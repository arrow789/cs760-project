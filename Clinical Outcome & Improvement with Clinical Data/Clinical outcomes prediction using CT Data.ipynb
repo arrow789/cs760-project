{
 "cells": [
  {
   "cell_type": "code",
   "execution_count": 1,
   "id": "3af8a309",
   "metadata": {},
   "outputs": [],
   "source": [
    "import pandas as pd\n",
    "import numpy as np\n",
    "import matplotlib.pyplot as plt\n",
    "import seaborn as sns\n",
    "from scipy import stats\n",
    "\n",
    "from sklearn.ensemble import RandomForestRegressor\n",
    "from sklearn.ensemble import RandomForestClassifier\n",
    "from sklearn.model_selection import train_test_split\n",
    "from sklearn.preprocessing import StandardScaler\n",
    "from sklearn.metrics import confusion_matrix\n",
    "from sklearn.ensemble import BaggingRegressor\n",
    "from sklearn.svm import SVR\n",
    "from sklearn.model_selection import RepeatedStratifiedKFold\n",
    "from sklearn.linear_model import LogisticRegression\n",
    "from sklearn.linear_model import LinearRegression\n",
    "\n",
    "\n",
    "from sklearn.metrics import mean_absolute_error\n",
    "from sklearn.metrics import mean_squared_error\n",
    "\n",
    "from sklearn.metrics import r2_score\n",
    "\n",
    "from sklearn import metrics "
   ]
  },
  {
   "cell_type": "code",
   "execution_count": 2,
   "id": "33197051",
   "metadata": {},
   "outputs": [],
   "source": [
    "df = pd.read_excel('OppScrData.xlsx')  \n",
    "df = df.iloc[: , :52]"
   ]
  },
  {
   "cell_type": "markdown",
   "id": "b806b6c6",
   "metadata": {},
   "source": [
    "## Predicting heart failure as a binary variable"
   ]
  },
  {
   "cell_type": "code",
   "execution_count": 3,
   "id": "b4990a33",
   "metadata": {},
   "outputs": [],
   "source": [
    "df_filtered =  df.iloc[:, 41:52]\n",
    "df_filtered[\"Heart failure DX\"] = df[\"Heart failure DX\"]\n",
    "df_filtered[\"DEATH [d from CT]\"] = df[\"DEATH [d from CT]\"]\n",
    "\n",
    "df_filtered['Heart failure DX'] = df_filtered['Heart failure DX'].fillna(0)\n",
    "df_filtered[\"DEATH [d from CT]\"] = df_filtered[\"DEATH [d from CT]\"].fillna(0)\n",
    "\n",
    "df_filtered.loc[df_filtered['DEATH [d from CT]']== 0,'Death' ] = 0\n",
    "df_filtered.loc[df_filtered['DEATH [d from CT]']>0,'Death' ] = 1\n",
    "\n",
    "df_filtered.loc[df_filtered['Heart failure DX']== 0,'Heart Failure' ] = 0\n",
    "df_filtered.loc[df_filtered['Heart failure DX'] != 0,'Heart Failure' ] = 1"
   ]
  },
  {
   "cell_type": "code",
   "execution_count": 4,
   "id": "6eecb001",
   "metadata": {},
   "outputs": [],
   "source": [
    "## Filtering the dataset\n",
    "death_df = df_filtered[df_filtered['Death']!=0]"
   ]
  },
  {
   "cell_type": "code",
   "execution_count": 5,
   "id": "90915957",
   "metadata": {},
   "outputs": [
    {
     "name": "stderr",
     "output_type": "stream",
     "text": [
      "<ipython-input-5-a46515058fb2>:2: SettingWithCopyWarning: \n",
      "A value is trying to be set on a copy of a slice from a DataFrame.\n",
      "Try using .loc[row_indexer,col_indexer] = value instead\n",
      "\n",
      "See the caveats in the documentation: https://pandas.pydata.org/pandas-docs/stable/user_guide/indexing.html#returning-a-view-versus-a-copy\n",
      "  death_df.iloc[:,i] = pd.to_numeric(death_df.iloc[:,i], errors='coerce')\n"
     ]
    }
   ],
   "source": [
    "for i in range(15):\n",
    "    death_df.iloc[:,i] = pd.to_numeric(death_df.iloc[:,i], errors='coerce')\n",
    "    \n",
    "for i in range(11):\n",
    "    death_df.iloc[:,i].fillna(value=death_df.iloc[:,i].mean(),inplace = True)\n",
    "\n"
   ]
  },
  {
   "cell_type": "code",
   "execution_count": 6,
   "id": "70081839",
   "metadata": {},
   "outputs": [
    {
     "data": {
      "text/plain": [
       "0.0    366\n",
       "1.0    183\n",
       "Name: Heart Failure, dtype: int64"
      ]
     },
     "execution_count": 6,
     "metadata": {},
     "output_type": "execute_result"
    }
   ],
   "source": [
    "death_df.head()\n",
    "death_df[\"Heart Failure\"].value_counts()"
   ]
  },
  {
   "cell_type": "code",
   "execution_count": 7,
   "id": "38317f6e",
   "metadata": {},
   "outputs": [],
   "source": [
    "X = np.array(death_df.iloc[:,0:11])\n",
    "Y = np.array(death_df.iloc[:,-1])\n"
   ]
  },
  {
   "cell_type": "code",
   "execution_count": 8,
   "id": "2afed001",
   "metadata": {},
   "outputs": [],
   "source": [
    "scaler = StandardScaler()\n",
    "X_scaled = scaler.fit_transform(X)\n",
    "\n",
    "X_train, X_test, y_train, y_test = train_test_split(X_scaled, Y, test_size = 0.20)"
   ]
  },
  {
   "cell_type": "markdown",
   "id": "317963b6",
   "metadata": {},
   "source": [
    "### Model 1: Random Forest"
   ]
  },
  {
   "cell_type": "code",
   "execution_count": 9,
   "id": "89cdc21b",
   "metadata": {},
   "outputs": [
    {
     "data": {
      "text/plain": [
       "RandomForestClassifier()"
      ]
     },
     "execution_count": 9,
     "metadata": {},
     "output_type": "execute_result"
    }
   ],
   "source": [
    "clf = RandomForestClassifier(n_estimators = 100) \n",
    "\n",
    "clf.fit(X_train, y_train)"
   ]
  },
  {
   "cell_type": "code",
   "execution_count": 10,
   "id": "881a419f",
   "metadata": {},
   "outputs": [
    {
     "name": "stdout",
     "output_type": "stream",
     "text": [
      "TRAINING ACCURACY OF THE MODEL:  1.0\n",
      "TESTING ACCURACY OF THE MODEL:  0.6454545454545455\n"
     ]
    }
   ],
   "source": [
    "y_pred = clf.predict(X_train)\n",
    " \n",
    "print(\"TRAINING ACCURACY OF THE MODEL: \", metrics.accuracy_score(y_train, y_pred))\n",
    "\n",
    "y_pred = clf.predict(X_test)\n",
    " \n",
    "print(\"TESTING ACCURACY OF THE MODEL: \", metrics.accuracy_score(y_test, y_pred))"
   ]
  },
  {
   "cell_type": "markdown",
   "id": "bcfcbb07",
   "metadata": {},
   "source": [
    "## Predicting Type 2 Diabetes DX as a binary variable"
   ]
  },
  {
   "cell_type": "code",
   "execution_count": 11,
   "id": "d0d1b1a8",
   "metadata": {},
   "outputs": [
    {
     "name": "stderr",
     "output_type": "stream",
     "text": [
      "<ipython-input-11-7976d3000e1e>:18: SettingWithCopyWarning: \n",
      "A value is trying to be set on a copy of a slice from a DataFrame.\n",
      "Try using .loc[row_indexer,col_indexer] = value instead\n",
      "\n",
      "See the caveats in the documentation: https://pandas.pydata.org/pandas-docs/stable/user_guide/indexing.html#returning-a-view-versus-a-copy\n",
      "  death_df.iloc[:,i] = pd.to_numeric(death_df.iloc[:,i], errors='coerce')\n"
     ]
    }
   ],
   "source": [
    "df_filtered =  df.iloc[:, 41:52]\n",
    "df_filtered[\"Type 2 Diabetes DX\"] = df[\"Type 2 Diabetes DX\"]\n",
    "df_filtered[\"DEATH [d from CT]\"] = df[\"DEATH [d from CT]\"]\n",
    "\n",
    "df_filtered['Type 2 Diabetes DX'] = df_filtered['Type 2 Diabetes DX'].fillna(0)\n",
    "df_filtered[\"DEATH [d from CT]\"] = df_filtered[\"DEATH [d from CT]\"].fillna(0)\n",
    "\n",
    "df_filtered.loc[df_filtered['DEATH [d from CT]']== 0,'Death' ] = 0\n",
    "df_filtered.loc[df_filtered['DEATH [d from CT]']>0,'Death' ] = 1\n",
    "\n",
    "df_filtered.loc[df_filtered['Type 2 Diabetes DX']== 0,'Type 2 Diabetes' ] = 0\n",
    "df_filtered.loc[df_filtered['Type 2 Diabetes DX'] != 0,'Type 2 Diabetes' ] = 1\n",
    "\n",
    "## Filtering the dataset\n",
    "death_df = df_filtered[df_filtered['Death']!=0]\n",
    "\n",
    "for i in range(15):\n",
    "    death_df.iloc[:,i] = pd.to_numeric(death_df.iloc[:,i], errors='coerce')\n",
    "for i in range(11):\n",
    "    death_df.iloc[:,i].fillna(value=death_df.iloc[:,i].mean(),inplace = True)\n",
    "\n"
   ]
  },
  {
   "cell_type": "code",
   "execution_count": 12,
   "id": "e8aa6b75",
   "metadata": {},
   "outputs": [
    {
     "data": {
      "text/plain": [
       "0.0    343\n",
       "1.0    206\n",
       "Name: Type 2 Diabetes, dtype: int64"
      ]
     },
     "execution_count": 12,
     "metadata": {},
     "output_type": "execute_result"
    }
   ],
   "source": [
    "death_df[\"Type 2 Diabetes\"].value_counts()"
   ]
  },
  {
   "cell_type": "code",
   "execution_count": 13,
   "id": "eaef3caa",
   "metadata": {},
   "outputs": [],
   "source": [
    "X = np.array(death_df.iloc[:,0:11])\n",
    "Y = np.array(death_df.iloc[:,-1])\n",
    "\n",
    "scaler = StandardScaler()\n",
    "X_scaled = scaler.fit_transform(X)\n",
    "\n",
    "X_train, X_test, y_train, y_test = train_test_split(X_scaled, Y, test_size = 0.20)"
   ]
  },
  {
   "cell_type": "markdown",
   "id": "2b6ed28e",
   "metadata": {},
   "source": [
    "### Model 1: Random Forest"
   ]
  },
  {
   "cell_type": "code",
   "execution_count": 14,
   "id": "d98ae9ce",
   "metadata": {},
   "outputs": [
    {
     "name": "stdout",
     "output_type": "stream",
     "text": [
      "TRAINING ACCURACY OF THE MODEL:  1.0\n",
      "TESTING ACCURACY OF THE MODEL:  0.6818181818181818\n"
     ]
    }
   ],
   "source": [
    "clf = RandomForestClassifier(n_estimators = 100) \n",
    "clf.fit(X_train, y_train)\n",
    "\n",
    "y_pred = clf.predict(X_train)\n",
    " \n",
    "print(\"TRAINING ACCURACY OF THE MODEL: \", metrics.accuracy_score(y_train, y_pred))\n",
    "\n",
    "y_pred = clf.predict(X_test)\n",
    " \n",
    "print(\"TESTING ACCURACY OF THE MODEL: \", metrics.accuracy_score(y_test, y_pred))"
   ]
  },
  {
   "cell_type": "markdown",
   "id": "da13ecc3",
   "metadata": {},
   "source": [
    "## Predicting Femoral neck fracture DX as a binary variable\n"
   ]
  },
  {
   "cell_type": "code",
   "execution_count": 15,
   "id": "c5659f2a",
   "metadata": {},
   "outputs": [],
   "source": [
    "df_filtered =  df.iloc[:, 41:52]\n",
    "df_filtered[\"Humerus fracture DX\"] = df[\"Humerus fracture DX\"]\n",
    "df_filtered[\"DEATH [d from CT]\"] = df[\"DEATH [d from CT]\"]\n",
    "\n",
    "df_filtered['Humerus fracture DX'] = df_filtered['Humerus fracture DX'].fillna(0)\n",
    "df_filtered[\"DEATH [d from CT]\"] = df_filtered[\"DEATH [d from CT]\"].fillna(0)\n",
    "\n",
    "df_filtered.loc[df_filtered['DEATH [d from CT]']== 0,'Death' ] = 0\n",
    "df_filtered.loc[df_filtered['DEATH [d from CT]']>0,'Death' ] = 1\n",
    "\n",
    "df_filtered.loc[df_filtered['Humerus fracture DX']== 0,'Femoral neck fracture' ] = 0\n",
    "df_filtered.loc[df_filtered['Humerus fracture DX'] != 0,'Femoral neck fracture' ] = 1\n"
   ]
  },
  {
   "cell_type": "code",
   "execution_count": 16,
   "id": "c4f0844f",
   "metadata": {},
   "outputs": [],
   "source": [
    "death_df = pd.concat([df_filtered[df_filtered[\"Femoral neck fracture\"]==0].head(126),\n",
    "                 df_filtered[df_filtered[\"Femoral neck fracture\"]==1]], ignore_index=True, sort=False)\n",
    "\n",
    "for i in range(15):\n",
    "    death_df.iloc[:,i] = pd.to_numeric(death_df.iloc[:,i], errors='coerce')\n",
    "for i in range(11):\n",
    "    death_df.iloc[:,i].fillna(value=death_df.iloc[:,i].mean(),inplace = True)"
   ]
  },
  {
   "cell_type": "code",
   "execution_count": 17,
   "id": "542a2350",
   "metadata": {},
   "outputs": [
    {
     "data": {
      "text/plain": [
       "1.0    141\n",
       "0.0    126\n",
       "Name: Femoral neck fracture, dtype: int64"
      ]
     },
     "execution_count": 17,
     "metadata": {},
     "output_type": "execute_result"
    }
   ],
   "source": [
    "death_df[\"Femoral neck fracture\"].value_counts()"
   ]
  },
  {
   "cell_type": "code",
   "execution_count": 18,
   "id": "6f57f44b",
   "metadata": {},
   "outputs": [],
   "source": [
    "X = np.array(death_df.iloc[:,0:11])\n",
    "Y = np.array(death_df.iloc[:,-1])\n",
    "\n",
    "scaler = StandardScaler()\n",
    "X_scaled = scaler.fit_transform(X)\n",
    "\n",
    "X_train, X_test, y_train, y_test = train_test_split(X_scaled, Y, test_size = 0.20)"
   ]
  },
  {
   "cell_type": "markdown",
   "id": "49f242cc",
   "metadata": {},
   "source": [
    "### Model 1: Random Forest"
   ]
  },
  {
   "cell_type": "code",
   "execution_count": 19,
   "id": "0172d8ac",
   "metadata": {},
   "outputs": [
    {
     "name": "stdout",
     "output_type": "stream",
     "text": [
      "TRAINING ACCURACY OF THE MODEL:  1.0\n",
      "TESTING ACCURACY OF THE MODEL:  0.5370370370370371\n"
     ]
    }
   ],
   "source": [
    "clf = RandomForestClassifier(n_estimators = 100) \n",
    "clf.fit(X_train, y_train)\n",
    "\n",
    "y_pred = clf.predict(X_train)\n",
    " \n",
    "print(\"TRAINING ACCURACY OF THE MODEL: \", metrics.accuracy_score(y_train, y_pred))\n",
    "\n",
    "y_pred = clf.predict(X_test)\n",
    " \n",
    "print(\"TESTING ACCURACY OF THE MODEL: \", metrics.accuracy_score(y_test, y_pred))"
   ]
  },
  {
   "cell_type": "code",
   "execution_count": 20,
   "id": "aee3a7ca",
   "metadata": {},
   "outputs": [
    {
     "data": {
      "image/png": "[encoded data removed]",
      "text/plain": [
       "<Figure size 432x288 with 2 Axes>"
      ]
     },
     "metadata": {
      "needs_background": "light"
     },
     "output_type": "display_data"
    }
   ],
   "source": [
    "ax= plt.subplot()\n",
    "sns.heatmap(confusion_matrix(y_test, y_pred), annot=True, fmt='g', ax=ax);\n",
    "ax.set_xlabel('Predicted labels');ax.set_ylabel('True labels'); \n",
    "ax.set_title('Confusion Matrix'); \n",
    "ax.xaxis.set_ticklabels(['0', '1']); ax.yaxis.set_ticklabels(['0', '1']);"
   ]
  },
  {
   "cell_type": "markdown",
   "id": "58693e1c",
   "metadata": {},
   "source": [
    "## Predicting Primary Cancer Site as a binary variable"
   ]
  },
  {
   "cell_type": "code",
   "execution_count": 21,
   "id": "622895cb",
   "metadata": {},
   "outputs": [],
   "source": [
    "df_filtered =  df.iloc[:, 41:52]\n",
    "df_filtered[\"Primary Cancer Site 2\"] = df[\"Primary Cancer Site 2\"]\n",
    "df_filtered[\"DEATH [d from CT]\"] = df[\"DEATH [d from CT]\"]\n",
    "\n",
    "df_filtered['Primary Cancer Site 2'] = df_filtered['Primary Cancer Site 2'].fillna(0)\n",
    "df_filtered[\"DEATH [d from CT]\"] = df_filtered[\"DEATH [d from CT]\"].fillna(0)\n",
    "\n",
    "df_filtered.loc[df_filtered['DEATH [d from CT]']== 0,'Death' ] = 0\n",
    "df_filtered.loc[df_filtered['DEATH [d from CT]']>0,'Death' ] = 1\n",
    "\n",
    "df_filtered.loc[df_filtered['Primary Cancer Site 2']== 0,'Cancer' ] = 0\n",
    "df_filtered.loc[df_filtered['Primary Cancer Site 2'] != 0,'Cancer' ] = 1\n"
   ]
  },
  {
   "cell_type": "code",
   "execution_count": 22,
   "id": "e0110385",
   "metadata": {},
   "outputs": [],
   "source": [
    "death_df = pd.concat([df_filtered[df_filtered[\"Cancer\"]==0].head(1400),\n",
    "                 df_filtered[df_filtered[\"Cancer\"]==1]], ignore_index=True, sort=False)\n",
    "\n",
    "for i in range(15):\n",
    "    death_df.iloc[:,i] = pd.to_numeric(death_df.iloc[:,i], errors='coerce')\n",
    "for i in range(11):\n",
    "    death_df.iloc[:,i].fillna(value=death_df.iloc[:,i].mean(),inplace = True)"
   ]
  },
  {
   "cell_type": "code",
   "execution_count": 23,
   "id": "284375c2",
   "metadata": {},
   "outputs": [
    {
     "data": {
      "text/plain": [
       "0.0    1400\n",
       "1.0     127\n",
       "Name: Cancer, dtype: int64"
      ]
     },
     "execution_count": 23,
     "metadata": {},
     "output_type": "execute_result"
    }
   ],
   "source": [
    "\n",
    "death_df[\"Cancer\"].value_counts()"
   ]
  },
  {
   "cell_type": "code",
   "execution_count": 24,
   "id": "37544cd9",
   "metadata": {},
   "outputs": [],
   "source": [
    "X = np.array(death_df.iloc[:,0:11])\n",
    "Y = np.array(death_df.iloc[:,-1])\n",
    "\n",
    "scaler = StandardScaler()\n",
    "X_scaled = scaler.fit_transform(X)\n",
    "\n",
    "X_train, X_test, y_train, y_test = train_test_split(X_scaled, Y, test_size = 0.20)"
   ]
  },
  {
   "cell_type": "markdown",
   "id": "4e66651b",
   "metadata": {},
   "source": [
    "### Model 1: Random Forest"
   ]
  },
  {
   "cell_type": "code",
   "execution_count": 25,
   "id": "33cef916",
   "metadata": {},
   "outputs": [
    {
     "name": "stdout",
     "output_type": "stream",
     "text": [
      "TRAINING ACCURACY OF THE MODEL:  1.0\n",
      "TESTING ACCURACY OF THE MODEL:  0.9019607843137255\n"
     ]
    }
   ],
   "source": [
    "clf = RandomForestClassifier(n_estimators = 100) \n",
    "clf.fit(X_train, y_train)\n",
    "\n",
    "y_pred = clf.predict(X_train)\n",
    " \n",
    "print(\"TRAINING ACCURACY OF THE MODEL: \", metrics.accuracy_score(y_train, y_pred))\n",
    "\n",
    "y_pred = clf.predict(X_test)\n",
    " \n",
    "print(\"TESTING ACCURACY OF THE MODEL: \", metrics.accuracy_score(y_test, y_pred))"
   ]
  },
  {
   "cell_type": "markdown",
   "id": "525eda92",
   "metadata": {},
   "source": [
    "## Predicting Alzheimers DX as a binary variable\n"
   ]
  },
  {
   "cell_type": "code",
   "execution_count": 26,
   "id": "d69653c6",
   "metadata": {},
   "outputs": [],
   "source": [
    "df_filtered =  df.iloc[:, 41:52]\n",
    "df_filtered[\"Alzheimers DX\"] = df[\"Alzheimers DX\"]\n",
    "df_filtered[\"DEATH [d from CT]\"] = df[\"DEATH [d from CT]\"]\n",
    "\n",
    "df_filtered['Alzheimers DX'] = df_filtered['Alzheimers DX'].fillna(0)\n",
    "df_filtered[\"DEATH [d from CT]\"] = df_filtered[\"DEATH [d from CT]\"].fillna(0)\n",
    "\n",
    "df_filtered.loc[df_filtered['DEATH [d from CT]']== 0,'Death' ] = 0\n",
    "df_filtered.loc[df_filtered['DEATH [d from CT]']>0,'Death' ] = 1\n",
    "\n",
    "df_filtered.loc[df_filtered['Alzheimers DX']== 0,'Alzheimers' ] = 0\n",
    "df_filtered.loc[df_filtered['Alzheimers DX'] != 0,'Alzheimers' ] = 1\n"
   ]
  },
  {
   "cell_type": "code",
   "execution_count": 27,
   "id": "7f467eba",
   "metadata": {},
   "outputs": [],
   "source": [
    "death_df = pd.concat([df_filtered[df_filtered[\"Alzheimers\"]==0].head(80),\n",
    "                 df_filtered[df_filtered[\"Alzheimers\"]==1]], ignore_index=True, sort=False)\n",
    "\n",
    "for i in range(15):\n",
    "    death_df.iloc[:,i] = pd.to_numeric(death_df.iloc[:,i], errors='coerce')\n",
    "for i in range(11):\n",
    "    death_df.iloc[:,i].fillna(value=death_df.iloc[:,i].mean(),inplace = True)"
   ]
  },
  {
   "cell_type": "code",
   "execution_count": 28,
   "id": "419c2c7d",
   "metadata": {},
   "outputs": [
    {
     "data": {
      "text/plain": [
       "0.0    80\n",
       "1.0    53\n",
       "Name: Alzheimers, dtype: int64"
      ]
     },
     "execution_count": 28,
     "metadata": {},
     "output_type": "execute_result"
    }
   ],
   "source": [
    "death_df[\"Alzheimers\"].value_counts()"
   ]
  },
  {
   "cell_type": "code",
   "execution_count": 29,
   "id": "2ddd63ba",
   "metadata": {},
   "outputs": [],
   "source": [
    "X = np.array(death_df.iloc[:,0:11])\n",
    "Y = np.array(death_df.iloc[:,-1])\n",
    "\n",
    "scaler = StandardScaler()\n",
    "X_scaled = scaler.fit_transform(X)\n",
    "\n",
    "X_train, X_test, y_train, y_test = train_test_split(X_scaled, Y, test_size = 0.20)"
   ]
  },
  {
   "cell_type": "markdown",
   "id": "4954d4c9",
   "metadata": {},
   "source": [
    "### Model 1: Random Forest"
   ]
  },
  {
   "cell_type": "code",
   "execution_count": 30,
   "id": "afa69e6b",
   "metadata": {},
   "outputs": [
    {
     "name": "stdout",
     "output_type": "stream",
     "text": [
      "TRAINING ACCURACY OF THE MODEL:  1.0\n",
      "TESTING ACCURACY OF THE MODEL:  0.5555555555555556\n"
     ]
    }
   ],
   "source": [
    "clf = RandomForestClassifier(n_estimators = 100) \n",
    "clf.fit(X_train, y_train)\n",
    "\n",
    "y_pred = clf.predict(X_train)\n",
    " \n",
    "print(\"TRAINING ACCURACY OF THE MODEL: \", metrics.accuracy_score(y_train, y_pred))\n",
    "\n",
    "y_pred = clf.predict(X_test)\n",
    " \n",
    "print(\"TESTING ACCURACY OF THE MODEL: \", metrics.accuracy_score(y_test, y_pred))"
   ]
  },
  {
   "cell_type": "code",
   "execution_count": 31,
   "id": "649db1ed",
   "metadata": {},
   "outputs": [
    {
     "data": {
      "image/png": "[encoded data removed]",
      "text/plain": [
       "<Figure size 432x288 with 2 Axes>"
      ]
     },
     "metadata": {
      "needs_background": "light"
     },
     "output_type": "display_data"
    }
   ],
   "source": [
    "ax= plt.subplot()\n",
    "sns.heatmap(confusion_matrix(y_test, y_pred), annot=True, fmt='g', ax=ax);\n",
    "ax.set_xlabel('Predicted labels');ax.set_ylabel('True labels'); \n",
    "ax.set_title('Confusion Matrix'); \n",
    "ax.xaxis.set_ticklabels(['0', '1']); ax.yaxis.set_ticklabels(['0', '1']);"
   ]
  },
  {
   "cell_type": "code",
   "execution_count": null,
   "id": "849c2f2a",
   "metadata": {},
   "outputs": [],
   "source": []
  }
 ],
 "metadata": {
  "kernelspec": {
   "display_name": "Python 3",
   "language": "python",
   "name": "python3"
  },
  "language_info": {
   "codemirror_mode": {
    "name": "ipython",
    "version": 3
   },
   "file_extension": ".py",
   "mimetype": "text/x-python",
   "name": "python",
   "nbconvert_exporter": "python",
   "pygments_lexer": "ipython3",
   "version": "3.8.8"
  }
 },
 "nbformat": 4,
 "nbformat_minor": 5
}
