{
  "cells": [
    {
      "cell_type": "markdown",
      "metadata": {
        "id": "view-in-github",
        "colab_type": "text"
      },
      "source": [
        "<a href=\"https://colab.research.google.com/github/arrow789/cs760-project/blob/master/Data_Augmentation.ipynb\" target=\"_parent\"><img src=\"https://colab.research.google.com/assets/colab-badge.svg\" alt=\"Open In Colab\"/></a>"
      ]
    },
    {
      "cell_type": "code",
      "execution_count": null,
      "id": "64732c42",
      "metadata": {
        "id": "64732c42"
      },
      "outputs": [],
      "source": [
        "# conda install pytorch-cpu torchvision-cpu -c pytorch"
      ]
    },
    {
      "cell_type": "code",
      "execution_count": null,
      "id": "cdbebb90",
      "metadata": {
        "id": "cdbebb90"
      },
      "outputs": [],
      "source": [
        "''' Adapted from: \n",
        "Data augmentation for Tabular Data. Data Science Blog von lschmiddey. (2021, March 14).\n",
        " Retrieved May 12, 2022, from https://lschmiddey.github.io/fastpages_/2021/03/14/tabular-data-variational-autoencoder.html \n",
        "\n",
        "'''\n",
        "\n",
        "import torch\n",
        "import torch.nn as nn\n",
        "import torch.nn.functional as F\n",
        "from torch import nn, optim\n",
        "from torch.autograd import Variable\n",
        "\n",
        "import pandas as pd\n",
        "import numpy as np\n",
        "from sklearn import preprocessing\n",
        "from sklearn.model_selection import train_test_split"
      ]
    },
    {
      "cell_type": "code",
      "execution_count": null,
      "id": "974c23d2",
      "metadata": {
        "id": "974c23d2"
      },
      "outputs": [],
      "source": [
        "df = pd.read_csv(\"CT Data.csv\")\n",
        "\n",
        "df['DEATH [d from CT]'] = df['DEATH [d from CT]'].fillna(0)\n",
        "#df[\"Death\"] = df['DEATH [d from CT]']/365"
      ]
    },
    {
      "cell_type": "code",
      "execution_count": null,
      "id": "46a13a22",
      "metadata": {
        "id": "46a13a22",
        "outputId": "d28d1f92-1b3b-45ea-daec-ba9d7310911e"
      },
      "outputs": [
        {
          "data": {
            "text/plain": [
              "Index(['Age at CT', 'DEATH [d from CT]', 'L1_HU_BMD', 'TAT Area (cm2)',\n",
              "       'Total Body                Area EA (cm2)', 'VAT Area (cm2)',\n",
              "       'SAT Area (cm2)', 'VAT/SAT     Ratio', 'Muscle HU',\n",
              "       ' Muscle Area (cm2)', 'L3 SMI (cm2/m2)', 'AoCa        Agatston',\n",
              "       'Liver HU    (Median)'],\n",
              "      dtype='object')"
            ]
          },
          "execution_count": 7,
          "metadata": {},
          "output_type": "execute_result"
        }
      ],
      "source": [
        "df.columns"
      ]
    },
    {
      "cell_type": "code",
      "execution_count": null,
      "id": "e137cef9",
      "metadata": {
        "id": "e137cef9"
      },
      "outputs": [],
      "source": [
        "df.iloc[:,7] = pd.to_numeric(df.iloc[:,7], errors='coerce')\n",
        "df.iloc[:,12] = pd.to_numeric(df.iloc[:,12], errors='coerce')\n",
        "death_df = df[df['DEATH [d from CT]']!=0]"
      ]
    },
    {
      "cell_type": "code",
      "execution_count": null,
      "id": "cd5fcf8b",
      "metadata": {
        "id": "cd5fcf8b"
      },
      "outputs": [],
      "source": [
        "for i in range(2,13):\n",
        "    death_df.iloc[:,i].fillna(value=death_df.iloc[:,i].mean(),inplace = True)\n",
        "\n"
      ]
    },
    {
      "cell_type": "code",
      "execution_count": null,
      "id": "4e830d61",
      "metadata": {
        "id": "4e830d61"
      },
      "outputs": [],
      "source": [
        "death_df.to_csv(\"Cleaned CT Data\",index = False)"
      ]
    },
    {
      "cell_type": "code",
      "execution_count": null,
      "id": "822d3d16",
      "metadata": {
        "id": "822d3d16"
      },
      "outputs": [],
      "source": [
        "cols = death_df.columns"
      ]
    },
    {
      "cell_type": "code",
      "execution_count": null,
      "id": "61098bc0",
      "metadata": {
        "id": "61098bc0"
      },
      "outputs": [],
      "source": [
        "DATA_PATH = \"Cleaned CT Data\""
      ]
    },
    {
      "cell_type": "code",
      "execution_count": null,
      "id": "5c8a716b",
      "metadata": {
        "id": "5c8a716b"
      },
      "outputs": [],
      "source": [
        "df_base = pd.read_csv(DATA_PATH, sep=',')"
      ]
    },
    {
      "cell_type": "code",
      "execution_count": null,
      "id": "baa560cd",
      "metadata": {
        "id": "baa560cd",
        "outputId": "eb0bd7f9-8a85-4cd8-ab5f-462ef4925aa7"
      },
      "outputs": [
        {
          "data": {
            "text/html": [
              "<div>\n",
              "<style scoped>\n",
              "    .dataframe tbody tr th:only-of-type {\n",
              "        vertical-align: middle;\n",
              "    }\n",
              "\n",
              "    .dataframe tbody tr th {\n",
              "        vertical-align: top;\n",
              "    }\n",
              "\n",
              "    .dataframe thead th {\n",
              "        text-align: right;\n",
              "    }\n",
              "</style>\n",
              "<table border=\"1\" class=\"dataframe\">\n",
              "  <thead>\n",
              "    <tr style=\"text-align: right;\">\n",
              "      <th></th>\n",
              "      <th>Age at CT</th>\n",
              "      <th>DEATH [d from CT]</th>\n",
              "      <th>L1_HU_BMD</th>\n",
              "      <th>TAT Area (cm2)</th>\n",
              "      <th>Total Body                Area EA (cm2)</th>\n",
              "      <th>VAT Area (cm2)</th>\n",
              "      <th>SAT Area (cm2)</th>\n",
              "      <th>VAT/SAT     Ratio</th>\n",
              "      <th>Muscle HU</th>\n",
              "      <th>Muscle Area (cm2)</th>\n",
              "      <th>L3 SMI (cm2/m2)</th>\n",
              "      <th>AoCa        Agatston</th>\n",
              "      <th>Liver HU    (Median)</th>\n",
              "    </tr>\n",
              "  </thead>\n",
              "  <tbody>\n",
              "    <tr>\n",
              "      <th>0</th>\n",
              "      <td>73</td>\n",
              "      <td>967.0</td>\n",
              "      <td>135.0</td>\n",
              "      <td>407.463977</td>\n",
              "      <td>721.279362</td>\n",
              "      <td>212.316698</td>\n",
              "      <td>199.007129</td>\n",
              "      <td>1.220394</td>\n",
              "      <td>18.2</td>\n",
              "      <td>170.1</td>\n",
              "      <td>58.7</td>\n",
              "      <td>5473.6</td>\n",
              "      <td>35.0</td>\n",
              "    </tr>\n",
              "    <tr>\n",
              "      <th>1</th>\n",
              "      <td>55</td>\n",
              "      <td>359.0</td>\n",
              "      <td>192.0</td>\n",
              "      <td>485.500000</td>\n",
              "      <td>694.300000</td>\n",
              "      <td>183.500000</td>\n",
              "      <td>302.000000</td>\n",
              "      <td>0.610000</td>\n",
              "      <td>16.2</td>\n",
              "      <td>124.0</td>\n",
              "      <td>48.4</td>\n",
              "      <td>2709.1</td>\n",
              "      <td>52.0</td>\n",
              "    </tr>\n",
              "    <tr>\n",
              "      <th>2</th>\n",
              "      <td>60</td>\n",
              "      <td>2351.0</td>\n",
              "      <td>149.0</td>\n",
              "      <td>289.100000</td>\n",
              "      <td>584.500000</td>\n",
              "      <td>144.000000</td>\n",
              "      <td>145.100000</td>\n",
              "      <td>0.990000</td>\n",
              "      <td>30.8</td>\n",
              "      <td>212.3</td>\n",
              "      <td>69.1</td>\n",
              "      <td>2586.6</td>\n",
              "      <td>57.0</td>\n",
              "    </tr>\n",
              "    <tr>\n",
              "      <th>3</th>\n",
              "      <td>88</td>\n",
              "      <td>658.0</td>\n",
              "      <td>106.0</td>\n",
              "      <td>315.500000</td>\n",
              "      <td>588.900000</td>\n",
              "      <td>202.300000</td>\n",
              "      <td>113.200000</td>\n",
              "      <td>1.790000</td>\n",
              "      <td>-3.2</td>\n",
              "      <td>168.9</td>\n",
              "      <td>47.8</td>\n",
              "      <td>431.5</td>\n",
              "      <td>53.0</td>\n",
              "    </tr>\n",
              "    <tr>\n",
              "      <th>4</th>\n",
              "      <td>82</td>\n",
              "      <td>1970.0</td>\n",
              "      <td>77.0</td>\n",
              "      <td>213.500000</td>\n",
              "      <td>452.900000</td>\n",
              "      <td>113.600000</td>\n",
              "      <td>99.900000</td>\n",
              "      <td>1.140000</td>\n",
              "      <td>1.5</td>\n",
              "      <td>89.5</td>\n",
              "      <td>30.9</td>\n",
              "      <td>1600.0</td>\n",
              "      <td>49.0</td>\n",
              "    </tr>\n",
              "  </tbody>\n",
              "</table>\n",
              "</div>"
            ],
            "text/plain": [
              "   Age at CT  DEATH [d from CT]  L1_HU_BMD  TAT Area (cm2)  \\\n",
              "0         73              967.0      135.0      407.463977   \n",
              "1         55              359.0      192.0      485.500000   \n",
              "2         60             2351.0      149.0      289.100000   \n",
              "3         88              658.0      106.0      315.500000   \n",
              "4         82             1970.0       77.0      213.500000   \n",
              "\n",
              "   Total Body                Area EA (cm2)  VAT Area (cm2)  SAT Area (cm2)  \\\n",
              "0                               721.279362      212.316698      199.007129   \n",
              "1                               694.300000      183.500000      302.000000   \n",
              "2                               584.500000      144.000000      145.100000   \n",
              "3                               588.900000      202.300000      113.200000   \n",
              "4                               452.900000      113.600000       99.900000   \n",
              "\n",
              "   VAT/SAT     Ratio  Muscle HU   Muscle Area (cm2)  L3 SMI (cm2/m2)  \\\n",
              "0           1.220394       18.2               170.1             58.7   \n",
              "1           0.610000       16.2               124.0             48.4   \n",
              "2           0.990000       30.8               212.3             69.1   \n",
              "3           1.790000       -3.2               168.9             47.8   \n",
              "4           1.140000        1.5                89.5             30.9   \n",
              "\n",
              "   AoCa        Agatston  Liver HU    (Median)  \n",
              "0                5473.6                  35.0  \n",
              "1                2709.1                  52.0  \n",
              "2                2586.6                  57.0  \n",
              "3                 431.5                  53.0  \n",
              "4                1600.0                  49.0  "
            ]
          },
          "execution_count": 110,
          "metadata": {},
          "output_type": "execute_result"
        }
      ],
      "source": [
        "df_base.head()"
      ]
    },
    {
      "cell_type": "markdown",
      "id": "475f8049",
      "metadata": {
        "id": "475f8049"
      },
      "source": [
        "## Build Data Loader"
      ]
    },
    {
      "cell_type": "code",
      "execution_count": null,
      "id": "bbec9b07",
      "metadata": {
        "id": "bbec9b07"
      },
      "outputs": [],
      "source": [
        "def load_and_standardize_data(path):\n",
        "    # read in from csv\n",
        "    df = pd.read_csv(path, sep=',')\n",
        "    # replace nan with -99\n",
        "    df = df.fillna(-99)\n",
        "    df = df.values.reshape(-1, df.shape[1]).astype('float32')\n",
        "    # randomly split\n",
        "    X_train, X_test = train_test_split(df, test_size=0.3, random_state=42)\n",
        "    # standardize values\n",
        "    scaler = preprocessing.StandardScaler()\n",
        "    X_train = scaler.fit_transform(X_train)\n",
        "    X_test = scaler.transform(X_test)   \n",
        "    return X_train, X_test, scaler"
      ]
    },
    {
      "cell_type": "code",
      "execution_count": null,
      "id": "93cac58d",
      "metadata": {
        "id": "93cac58d"
      },
      "outputs": [],
      "source": [
        "from torch.utils.data import Dataset, DataLoader\n",
        "class DataBuilder(Dataset):\n",
        "    def __init__(self, path, train=True):\n",
        "        self.X_train, self.X_test, self.standardizer = load_and_standardize_data(DATA_PATH)\n",
        "        if train:\n",
        "            self.x = torch.from_numpy(self.X_train)\n",
        "            self.len=self.x.shape[0]\n",
        "        else:\n",
        "            self.x = torch.from_numpy(self.X_test)\n",
        "            self.len=self.x.shape[0]\n",
        "        del self.X_train\n",
        "        del self.X_test \n",
        "    def __getitem__(self,index):      \n",
        "        return self.x[index]\n",
        "    def __len__(self):\n",
        "        return self.len"
      ]
    },
    {
      "cell_type": "code",
      "execution_count": null,
      "id": "62655d0e",
      "metadata": {
        "id": "62655d0e"
      },
      "outputs": [],
      "source": [
        "traindata_set=DataBuilder(DATA_PATH, train=True)\n",
        "testdata_set=DataBuilder(DATA_PATH, train=False)\n",
        "\n",
        "trainloader=DataLoader(dataset=traindata_set,batch_size=1024)\n",
        "testloader=DataLoader(dataset=testdata_set,batch_size=1024)"
      ]
    },
    {
      "cell_type": "code",
      "execution_count": null,
      "id": "4bfa0be2",
      "metadata": {
        "id": "4bfa0be2",
        "outputId": "042a9484-2441-4a95-8a30-b14bd1e7189e"
      },
      "outputs": [
        {
          "data": {
            "text/plain": [
              "(torch.Tensor, torch.Tensor)"
            ]
          },
          "execution_count": 114,
          "metadata": {},
          "output_type": "execute_result"
        }
      ],
      "source": [
        "type(trainloader.dataset.x), type(testloader.dataset.x)"
      ]
    },
    {
      "cell_type": "code",
      "execution_count": null,
      "id": "92d35e13",
      "metadata": {
        "id": "92d35e13",
        "outputId": "970648c3-2ea7-41d4-8ec9-c2839006841e"
      },
      "outputs": [
        {
          "data": {
            "text/plain": [
              "(torch.Size([384, 13]), torch.Size([165, 13]))"
            ]
          },
          "execution_count": 115,
          "metadata": {},
          "output_type": "execute_result"
        }
      ],
      "source": [
        "trainloader.dataset.x.shape, testloader.dataset.x.shape"
      ]
    },
    {
      "cell_type": "code",
      "execution_count": null,
      "id": "0565ae80",
      "metadata": {
        "id": "0565ae80",
        "outputId": "2ab026f8-58d0-440b-b77f-617012fe25ed"
      },
      "outputs": [
        {
          "data": {
            "text/plain": [
              "(torch.Size([124, 14]), torch.Size([54, 14]))"
            ]
          },
          "execution_count": 116,
          "metadata": {},
          "output_type": "execute_result"
        }
      ],
      "source": [
        "(torch.Size([124, 14]), torch.Size([54, 14]))"
      ]
    },
    {
      "cell_type": "markdown",
      "id": "d95cbd5a",
      "metadata": {
        "id": "d95cbd5a"
      },
      "source": [
        "## Build Model"
      ]
    },
    {
      "cell_type": "code",
      "execution_count": null,
      "id": "963189a4",
      "metadata": {
        "id": "963189a4"
      },
      "outputs": [],
      "source": [
        "class Autoencoder(nn.Module):\n",
        "    def __init__(self,D_in,H=50,H2=12,latent_dim=3):\n",
        "        \n",
        "        #Encoder\n",
        "        super(Autoencoder,self).__init__()\n",
        "        self.linear1=nn.Linear(D_in,H)\n",
        "        self.lin_bn1 = nn.BatchNorm1d(num_features=H)\n",
        "        self.linear2=nn.Linear(H,H2)\n",
        "        self.lin_bn2 = nn.BatchNorm1d(num_features=H2)\n",
        "        self.linear3=nn.Linear(H2,H2)\n",
        "        self.lin_bn3 = nn.BatchNorm1d(num_features=H2)\n",
        "        \n",
        "        # Latent vectors mu and sigma\n",
        "        self.fc1 = nn.Linear(H2, latent_dim)\n",
        "        self.bn1 = nn.BatchNorm1d(num_features=latent_dim)\n",
        "        self.fc21 = nn.Linear(latent_dim, latent_dim)\n",
        "        self.fc22 = nn.Linear(latent_dim, latent_dim)\n",
        "\n",
        "        # Sampling vector\n",
        "        self.fc3 = nn.Linear(latent_dim, latent_dim)\n",
        "        self.fc_bn3 = nn.BatchNorm1d(latent_dim)\n",
        "        self.fc4 = nn.Linear(latent_dim, H2)\n",
        "        self.fc_bn4 = nn.BatchNorm1d(H2)\n",
        "        \n",
        "        # Decoder\n",
        "        self.linear4=nn.Linear(H2,H2)\n",
        "        self.lin_bn4 = nn.BatchNorm1d(num_features=H2)\n",
        "        self.linear5=nn.Linear(H2,H)\n",
        "        self.lin_bn5 = nn.BatchNorm1d(num_features=H)\n",
        "        self.linear6=nn.Linear(H,D_in)\n",
        "        self.lin_bn6 = nn.BatchNorm1d(num_features=D_in)\n",
        "        \n",
        "        self.relu = nn.ReLU()\n",
        "        \n",
        "    def encode(self, x):\n",
        "        lin1 = self.relu(self.lin_bn1(self.linear1(x)))\n",
        "        lin2 = self.relu(self.lin_bn2(self.linear2(lin1)))\n",
        "        lin3 = self.relu(self.lin_bn3(self.linear3(lin2)))\n",
        "\n",
        "        fc1 = F.relu(self.bn1(self.fc1(lin3)))\n",
        "\n",
        "        r1 = self.fc21(fc1)\n",
        "        r2 = self.fc22(fc1)\n",
        "        \n",
        "        return r1, r2\n",
        "    \n",
        "    def reparameterize(self, mu, logvar):\n",
        "        if self.training:\n",
        "            std = logvar.mul(0.5).exp_()\n",
        "            eps = Variable(std.data.new(std.size()).normal_())\n",
        "            return eps.mul(std).add_(mu)\n",
        "        else:\n",
        "            return mu\n",
        "        \n",
        "    def decode(self, z):\n",
        "        fc3 = self.relu(self.fc_bn3(self.fc3(z)))\n",
        "        fc4 = self.relu(self.fc_bn4(self.fc4(fc3)))\n",
        "\n",
        "        lin4 = self.relu(self.lin_bn4(self.linear4(fc4)))\n",
        "        lin5 = self.relu(self.lin_bn5(self.linear5(lin4)))\n",
        "        return self.lin_bn6(self.linear6(lin5))\n",
        "\n",
        "\n",
        "        \n",
        "    def forward(self, x):\n",
        "        mu, logvar = self.encode(x)\n",
        "        z = self.reparameterize(mu, logvar)\n",
        "        return self.decode(z), mu, logvar"
      ]
    },
    {
      "cell_type": "code",
      "execution_count": null,
      "id": "38952066",
      "metadata": {
        "id": "38952066"
      },
      "outputs": [],
      "source": [
        "class customLoss(nn.Module):\n",
        "    def __init__(self):\n",
        "        super(customLoss, self).__init__()\n",
        "        self.mse_loss = nn.MSELoss(reduction=\"sum\")\n",
        "    \n",
        "    def forward(self, x_recon, x, mu, logvar):\n",
        "        loss_MSE = self.mse_loss(x_recon, x)\n",
        "        loss_KLD = -0.5 * torch.sum(1 + logvar - mu.pow(2) - logvar.exp())\n",
        "\n",
        "        return loss_MSE + loss_KLD"
      ]
    },
    {
      "cell_type": "code",
      "execution_count": null,
      "id": "0a2d5360",
      "metadata": {
        "id": "0a2d5360"
      },
      "outputs": [],
      "source": [
        "D_in = trainloader.dataset.x.shape[1]\n",
        "H = 50\n",
        "H2 = 12\n",
        "model = Autoencoder(D_in, H, H2).to(device)\n",
        "optimizer = optim.Adam(model.parameters(), lr=1e-3)"
      ]
    },
    {
      "cell_type": "code",
      "execution_count": null,
      "id": "a63b3a37",
      "metadata": {
        "id": "a63b3a37"
      },
      "outputs": [],
      "source": [
        "loss_mse = customLoss()"
      ]
    },
    {
      "cell_type": "markdown",
      "id": "475eb20c",
      "metadata": {
        "id": "475eb20c"
      },
      "source": [
        "## Train Model"
      ]
    },
    {
      "cell_type": "code",
      "execution_count": null,
      "id": "bcda3ddf",
      "metadata": {
        "id": "bcda3ddf"
      },
      "outputs": [],
      "source": [
        "epochs = 1500\n",
        "log_interval = 50\n",
        "val_losses = []\n",
        "train_losses = []\n",
        "test_losses = []"
      ]
    },
    {
      "cell_type": "code",
      "execution_count": null,
      "id": "3eb8e3a0",
      "metadata": {
        "id": "3eb8e3a0"
      },
      "outputs": [],
      "source": [
        "def train(epoch):\n",
        "    model.train()\n",
        "    train_loss = 0\n",
        "    for batch_idx, data in enumerate(trainloader):\n",
        "        data = data.to(device)\n",
        "        optimizer.zero_grad()\n",
        "        recon_batch, mu, logvar = model(data)\n",
        "        loss = loss_mse(recon_batch, data, mu, logvar)\n",
        "        loss.backward()\n",
        "        train_loss += loss.item()\n",
        "        optimizer.step()\n",
        "    if epoch % 200 == 0:        \n",
        "        print('====> Epoch: {} Average training loss: {:.4f}'.format(\n",
        "            epoch, train_loss / len(trainloader.dataset)))\n",
        "        train_losses.append(train_loss / len(trainloader.dataset))"
      ]
    },
    {
      "cell_type": "code",
      "execution_count": null,
      "id": "fa834802",
      "metadata": {
        "id": "fa834802"
      },
      "outputs": [],
      "source": [
        "def test(epoch):\n",
        "    with torch.no_grad():\n",
        "        test_loss = 0\n",
        "        for batch_idx, data in enumerate(testloader):\n",
        "            data = data.to(device)\n",
        "            optimizer.zero_grad()\n",
        "            recon_batch, mu, logvar = model(data)\n",
        "            loss = loss_mse(recon_batch, data, mu, logvar)\n",
        "            test_loss += loss.item()\n",
        "            if epoch % 200 == 0:        \n",
        "                print('====> Epoch: {} Average test loss: {:.4f}'.format(\n",
        "                    epoch, test_loss / len(testloader.dataset)))\n",
        "            test_losses.append(test_loss / len(testloader.dataset))"
      ]
    },
    {
      "cell_type": "code",
      "execution_count": null,
      "id": "bcab78e4",
      "metadata": {
        "id": "bcab78e4",
        "outputId": "ef72c51c-60ff-425b-f6c2-0fad99b71864"
      },
      "outputs": [
        {
          "name": "stdout",
          "output_type": "stream",
          "text": [
            "====> Epoch: 200 Average training loss: 15.9407\n",
            "====> Epoch: 200 Average test loss: 17.8016\n",
            "====> Epoch: 400 Average training loss: 12.6176\n",
            "====> Epoch: 400 Average test loss: 13.3210\n",
            "====> Epoch: 600 Average training loss: 11.3283\n",
            "====> Epoch: 600 Average test loss: 12.4122\n",
            "====> Epoch: 800 Average training loss: 10.5410\n",
            "====> Epoch: 800 Average test loss: 12.0615\n",
            "====> Epoch: 1000 Average training loss: 9.9562\n",
            "====> Epoch: 1000 Average test loss: 11.0453\n",
            "====> Epoch: 1200 Average training loss: 9.8385\n",
            "====> Epoch: 1200 Average test loss: 10.8062\n",
            "====> Epoch: 1400 Average training loss: 9.2621\n",
            "====> Epoch: 1400 Average test loss: 10.4874\n"
          ]
        }
      ],
      "source": [
        "for epoch in range(1, epochs + 1):\n",
        "    train(epoch)\n",
        "    test(epoch)"
      ]
    },
    {
      "cell_type": "code",
      "execution_count": null,
      "id": "ba582db8",
      "metadata": {
        "id": "ba582db8"
      },
      "outputs": [],
      "source": [
        "with torch.no_grad():\n",
        "    for batch_idx, data in enumerate(testloader):\n",
        "        data = data.to(device)\n",
        "        optimizer.zero_grad()\n",
        "        recon_batch, mu, logvar = model(data)"
      ]
    },
    {
      "cell_type": "code",
      "execution_count": null,
      "id": "3373dc6e",
      "metadata": {
        "id": "3373dc6e"
      },
      "outputs": [],
      "source": [
        "scaler = trainloader.dataset.standardizer\n",
        "recon_row = scaler.inverse_transform(recon_batch[0].cpu().numpy())\n",
        "real_row = scaler.inverse_transform(testloader.dataset.x[0].cpu().numpy())"
      ]
    },
    {
      "cell_type": "code",
      "execution_count": null,
      "id": "7723b535",
      "metadata": {
        "id": "7723b535",
        "outputId": "d3198d15-2095-45e4-9bed-0f6c269830c8"
      },
      "outputs": [
        {
          "data": {
            "text/html": [
              "<div>\n",
              "<style scoped>\n",
              "    .dataframe tbody tr th:only-of-type {\n",
              "        vertical-align: middle;\n",
              "    }\n",
              "\n",
              "    .dataframe tbody tr th {\n",
              "        vertical-align: top;\n",
              "    }\n",
              "\n",
              "    .dataframe thead th {\n",
              "        text-align: right;\n",
              "    }\n",
              "</style>\n",
              "<table border=\"1\" class=\"dataframe\">\n",
              "  <thead>\n",
              "    <tr style=\"text-align: right;\">\n",
              "      <th></th>\n",
              "      <th>Age at CT</th>\n",
              "      <th>DEATH [d from CT]</th>\n",
              "      <th>L1_HU_BMD</th>\n",
              "      <th>TAT Area (cm2)</th>\n",
              "      <th>Total Body                Area EA (cm2)</th>\n",
              "      <th>VAT Area (cm2)</th>\n",
              "      <th>SAT Area (cm2)</th>\n",
              "      <th>VAT/SAT     Ratio</th>\n",
              "      <th>Muscle HU</th>\n",
              "      <th>Muscle Area (cm2)</th>\n",
              "      <th>L3 SMI (cm2/m2)</th>\n",
              "      <th>AoCa        Agatston</th>\n",
              "      <th>Liver HU    (Median)</th>\n",
              "    </tr>\n",
              "  </thead>\n",
              "  <tbody>\n",
              "    <tr>\n",
              "      <th>0</th>\n",
              "      <td>59.926189</td>\n",
              "      <td>2592.822754</td>\n",
              "      <td>164.614563</td>\n",
              "      <td>310.396820</td>\n",
              "      <td>605.156067</td>\n",
              "      <td>150.213226</td>\n",
              "      <td>181.656113</td>\n",
              "      <td>0.947205</td>\n",
              "      <td>27.276741</td>\n",
              "      <td>154.115799</td>\n",
              "      <td>51.387344</td>\n",
              "      <td>1514.487305</td>\n",
              "      <td>59.838516</td>\n",
              "    </tr>\n",
              "    <tr>\n",
              "      <th>1</th>\n",
              "      <td>50.000000</td>\n",
              "      <td>2930.000000</td>\n",
              "      <td>181.000000</td>\n",
              "      <td>211.599991</td>\n",
              "      <td>442.700012</td>\n",
              "      <td>55.299995</td>\n",
              "      <td>156.300003</td>\n",
              "      <td>0.350000</td>\n",
              "      <td>33.500000</td>\n",
              "      <td>120.300003</td>\n",
              "      <td>47.000000</td>\n",
              "      <td>0.000089</td>\n",
              "      <td>62.000000</td>\n",
              "    </tr>\n",
              "  </tbody>\n",
              "</table>\n",
              "</div>"
            ],
            "text/plain": [
              "   Age at CT  DEATH [d from CT]   L1_HU_BMD  TAT Area (cm2)  \\\n",
              "0  59.926189        2592.822754  164.614563      310.396820   \n",
              "1  50.000000        2930.000000  181.000000      211.599991   \n",
              "\n",
              "   Total Body                Area EA (cm2)  VAT Area (cm2)  SAT Area (cm2)  \\\n",
              "0                               605.156067      150.213226      181.656113   \n",
              "1                               442.700012       55.299995      156.300003   \n",
              "\n",
              "   VAT/SAT     Ratio  Muscle HU   Muscle Area (cm2)  L3 SMI (cm2/m2)  \\\n",
              "0           0.947205  27.276741          154.115799        51.387344   \n",
              "1           0.350000  33.500000          120.300003        47.000000   \n",
              "\n",
              "   AoCa        Agatston  Liver HU    (Median)  \n",
              "0           1514.487305             59.838516  \n",
              "1              0.000089             62.000000  "
            ]
          },
          "execution_count": 127,
          "metadata": {},
          "output_type": "execute_result"
        }
      ],
      "source": [
        "df = pd.DataFrame(np.stack((recon_row, real_row)), columns = cols)\n",
        "df"
      ]
    },
    {
      "cell_type": "code",
      "execution_count": null,
      "id": "f9276aec",
      "metadata": {
        "id": "f9276aec"
      },
      "outputs": [],
      "source": [
        "sigma = torch.exp(logvar/2)"
      ]
    },
    {
      "cell_type": "code",
      "execution_count": null,
      "id": "7343c44e",
      "metadata": {
        "id": "7343c44e"
      },
      "outputs": [],
      "source": [
        "no_samples = 400\n",
        "q = torch.distributions.Normal(mu.mean(axis=0), sigma.mean(axis=0))\n",
        "z = q.rsample(sample_shape=torch.Size([no_samples]))"
      ]
    },
    {
      "cell_type": "code",
      "execution_count": null,
      "id": "454ecf54",
      "metadata": {
        "id": "454ecf54"
      },
      "outputs": [],
      "source": [
        "with torch.no_grad():\n",
        "    pred = model.decode(z).cpu().numpy()"
      ]
    },
    {
      "cell_type": "code",
      "execution_count": null,
      "id": "d63b4f63",
      "metadata": {
        "id": "d63b4f63",
        "outputId": "e1bbeec0-47d9-4e44-b60d-747653a078b6"
      },
      "outputs": [
        {
          "data": {
            "text/plain": [
              "(400, 13)"
            ]
          },
          "execution_count": 131,
          "metadata": {},
          "output_type": "execute_result"
        }
      ],
      "source": [
        "fake_data = scaler.inverse_transform(pred)\n",
        "fake_data.shape"
      ]
    },
    {
      "cell_type": "code",
      "execution_count": null,
      "id": "ba1b0dbf",
      "metadata": {
        "id": "ba1b0dbf"
      },
      "outputs": [],
      "source": [
        "df_fake = pd.DataFrame(fake_data, columns = cols)"
      ]
    },
    {
      "cell_type": "code",
      "execution_count": null,
      "id": "c1141fca",
      "metadata": {
        "id": "c1141fca",
        "outputId": "61741ef8-7e97-4eea-e0f9-c94590a9d89b"
      },
      "outputs": [
        {
          "data": {
            "text/html": [
              "<div>\n",
              "<style scoped>\n",
              "    .dataframe tbody tr th:only-of-type {\n",
              "        vertical-align: middle;\n",
              "    }\n",
              "\n",
              "    .dataframe tbody tr th {\n",
              "        vertical-align: top;\n",
              "    }\n",
              "\n",
              "    .dataframe thead th {\n",
              "        text-align: right;\n",
              "    }\n",
              "</style>\n",
              "<table border=\"1\" class=\"dataframe\">\n",
              "  <thead>\n",
              "    <tr style=\"text-align: right;\">\n",
              "      <th></th>\n",
              "      <th>Age at CT</th>\n",
              "      <th>DEATH [d from CT]</th>\n",
              "      <th>L1_HU_BMD</th>\n",
              "      <th>TAT Area (cm2)</th>\n",
              "      <th>Total Body                Area EA (cm2)</th>\n",
              "      <th>VAT Area (cm2)</th>\n",
              "      <th>SAT Area (cm2)</th>\n",
              "      <th>VAT/SAT     Ratio</th>\n",
              "      <th>Muscle HU</th>\n",
              "      <th>Muscle Area (cm2)</th>\n",
              "      <th>L3 SMI (cm2/m2)</th>\n",
              "      <th>AoCa        Agatston</th>\n",
              "      <th>Liver HU    (Median)</th>\n",
              "    </tr>\n",
              "  </thead>\n",
              "  <tbody>\n",
              "    <tr>\n",
              "      <th>0</th>\n",
              "      <td>65.196548</td>\n",
              "      <td>2516.894043</td>\n",
              "      <td>158.098267</td>\n",
              "      <td>796.908142</td>\n",
              "      <td>1229.049683</td>\n",
              "      <td>501.648468</td>\n",
              "      <td>312.721130</td>\n",
              "      <td>2.031366</td>\n",
              "      <td>11.879823</td>\n",
              "      <td>206.169464</td>\n",
              "      <td>68.523666</td>\n",
              "      <td>4519.041992</td>\n",
              "      <td>44.420200</td>\n",
              "    </tr>\n",
              "    <tr>\n",
              "      <th>1</th>\n",
              "      <td>72.960014</td>\n",
              "      <td>2390.637939</td>\n",
              "      <td>122.997078</td>\n",
              "      <td>349.223877</td>\n",
              "      <td>647.512695</td>\n",
              "      <td>183.032776</td>\n",
              "      <td>179.626282</td>\n",
              "      <td>1.169327</td>\n",
              "      <td>13.084172</td>\n",
              "      <td>130.681839</td>\n",
              "      <td>46.695396</td>\n",
              "      <td>2450.358398</td>\n",
              "      <td>52.684757</td>\n",
              "    </tr>\n",
              "    <tr>\n",
              "      <th>2</th>\n",
              "      <td>69.081055</td>\n",
              "      <td>1717.504272</td>\n",
              "      <td>146.523453</td>\n",
              "      <td>596.362732</td>\n",
              "      <td>922.082214</td>\n",
              "      <td>364.152344</td>\n",
              "      <td>246.299118</td>\n",
              "      <td>1.738507</td>\n",
              "      <td>13.295793</td>\n",
              "      <td>164.357040</td>\n",
              "      <td>53.725204</td>\n",
              "      <td>5343.875977</td>\n",
              "      <td>49.279922</td>\n",
              "    </tr>\n",
              "    <tr>\n",
              "      <th>3</th>\n",
              "      <td>62.556129</td>\n",
              "      <td>2805.172607</td>\n",
              "      <td>154.640213</td>\n",
              "      <td>380.483643</td>\n",
              "      <td>672.694275</td>\n",
              "      <td>183.638428</td>\n",
              "      <td>200.471115</td>\n",
              "      <td>1.041703</td>\n",
              "      <td>26.518488</td>\n",
              "      <td>157.245270</td>\n",
              "      <td>53.579075</td>\n",
              "      <td>1506.351929</td>\n",
              "      <td>57.784134</td>\n",
              "    </tr>\n",
              "    <tr>\n",
              "      <th>4</th>\n",
              "      <td>73.694305</td>\n",
              "      <td>2205.321045</td>\n",
              "      <td>117.404503</td>\n",
              "      <td>242.025192</td>\n",
              "      <td>515.926208</td>\n",
              "      <td>109.727127</td>\n",
              "      <td>145.774551</td>\n",
              "      <td>0.902599</td>\n",
              "      <td>12.566310</td>\n",
              "      <td>116.709084</td>\n",
              "      <td>43.046181</td>\n",
              "      <td>3398.472412</td>\n",
              "      <td>54.708920</td>\n",
              "    </tr>\n",
              "    <tr>\n",
              "      <th>5</th>\n",
              "      <td>61.703285</td>\n",
              "      <td>2762.822754</td>\n",
              "      <td>158.515854</td>\n",
              "      <td>363.083923</td>\n",
              "      <td>656.700500</td>\n",
              "      <td>164.100464</td>\n",
              "      <td>197.635254</td>\n",
              "      <td>0.980402</td>\n",
              "      <td>27.397604</td>\n",
              "      <td>155.723984</td>\n",
              "      <td>53.269917</td>\n",
              "      <td>1249.780640</td>\n",
              "      <td>58.443344</td>\n",
              "    </tr>\n",
              "    <tr>\n",
              "      <th>6</th>\n",
              "      <td>75.236465</td>\n",
              "      <td>2133.245605</td>\n",
              "      <td>114.668694</td>\n",
              "      <td>238.729111</td>\n",
              "      <td>515.514832</td>\n",
              "      <td>114.766457</td>\n",
              "      <td>129.795792</td>\n",
              "      <td>0.995354</td>\n",
              "      <td>11.665176</td>\n",
              "      <td>116.504745</td>\n",
              "      <td>42.952633</td>\n",
              "      <td>3417.105225</td>\n",
              "      <td>54.007248</td>\n",
              "    </tr>\n",
              "    <tr>\n",
              "      <th>7</th>\n",
              "      <td>72.883804</td>\n",
              "      <td>1931.361328</td>\n",
              "      <td>127.980095</td>\n",
              "      <td>454.724579</td>\n",
              "      <td>759.879089</td>\n",
              "      <td>260.809662</td>\n",
              "      <td>195.576263</td>\n",
              "      <td>1.557112</td>\n",
              "      <td>13.101714</td>\n",
              "      <td>146.596649</td>\n",
              "      <td>49.968761</td>\n",
              "      <td>4173.647949</td>\n",
              "      <td>48.603863</td>\n",
              "    </tr>\n",
              "    <tr>\n",
              "      <th>8</th>\n",
              "      <td>69.354202</td>\n",
              "      <td>2561.164551</td>\n",
              "      <td>134.685959</td>\n",
              "      <td>311.081238</td>\n",
              "      <td>586.609436</td>\n",
              "      <td>143.128693</td>\n",
              "      <td>171.185379</td>\n",
              "      <td>0.958821</td>\n",
              "      <td>19.624866</td>\n",
              "      <td>132.942780</td>\n",
              "      <td>46.619251</td>\n",
              "      <td>2427.425537</td>\n",
              "      <td>56.790905</td>\n",
              "    </tr>\n",
              "    <tr>\n",
              "      <th>9</th>\n",
              "      <td>65.280243</td>\n",
              "      <td>942.707214</td>\n",
              "      <td>135.228149</td>\n",
              "      <td>116.418282</td>\n",
              "      <td>379.224121</td>\n",
              "      <td>49.052773</td>\n",
              "      <td>62.400974</td>\n",
              "      <td>0.950647</td>\n",
              "      <td>15.911880</td>\n",
              "      <td>71.642044</td>\n",
              "      <td>29.938686</td>\n",
              "      <td>2461.429688</td>\n",
              "      <td>54.189777</td>\n",
              "    </tr>\n",
              "  </tbody>\n",
              "</table>\n",
              "</div>"
            ],
            "text/plain": [
              "   Age at CT  DEATH [d from CT]   L1_HU_BMD  TAT Area (cm2)  \\\n",
              "0  65.196548        2516.894043  158.098267      796.908142   \n",
              "1  72.960014        2390.637939  122.997078      349.223877   \n",
              "2  69.081055        1717.504272  146.523453      596.362732   \n",
              "3  62.556129        2805.172607  154.640213      380.483643   \n",
              "4  73.694305        2205.321045  117.404503      242.025192   \n",
              "5  61.703285        2762.822754  158.515854      363.083923   \n",
              "6  75.236465        2133.245605  114.668694      238.729111   \n",
              "7  72.883804        1931.361328  127.980095      454.724579   \n",
              "8  69.354202        2561.164551  134.685959      311.081238   \n",
              "9  65.280243         942.707214  135.228149      116.418282   \n",
              "\n",
              "   Total Body                Area EA (cm2)  VAT Area (cm2)  SAT Area (cm2)  \\\n",
              "0                              1229.049683      501.648468      312.721130   \n",
              "1                               647.512695      183.032776      179.626282   \n",
              "2                               922.082214      364.152344      246.299118   \n",
              "3                               672.694275      183.638428      200.471115   \n",
              "4                               515.926208      109.727127      145.774551   \n",
              "5                               656.700500      164.100464      197.635254   \n",
              "6                               515.514832      114.766457      129.795792   \n",
              "7                               759.879089      260.809662      195.576263   \n",
              "8                               586.609436      143.128693      171.185379   \n",
              "9                               379.224121       49.052773       62.400974   \n",
              "\n",
              "   VAT/SAT     Ratio  Muscle HU   Muscle Area (cm2)  L3 SMI (cm2/m2)  \\\n",
              "0           2.031366  11.879823          206.169464        68.523666   \n",
              "1           1.169327  13.084172          130.681839        46.695396   \n",
              "2           1.738507  13.295793          164.357040        53.725204   \n",
              "3           1.041703  26.518488          157.245270        53.579075   \n",
              "4           0.902599  12.566310          116.709084        43.046181   \n",
              "5           0.980402  27.397604          155.723984        53.269917   \n",
              "6           0.995354  11.665176          116.504745        42.952633   \n",
              "7           1.557112  13.101714          146.596649        49.968761   \n",
              "8           0.958821  19.624866          132.942780        46.619251   \n",
              "9           0.950647  15.911880           71.642044        29.938686   \n",
              "\n",
              "   AoCa        Agatston  Liver HU    (Median)  \n",
              "0           4519.041992             44.420200  \n",
              "1           2450.358398             52.684757  \n",
              "2           5343.875977             49.279922  \n",
              "3           1506.351929             57.784134  \n",
              "4           3398.472412             54.708920  \n",
              "5           1249.780640             58.443344  \n",
              "6           3417.105225             54.007248  \n",
              "7           4173.647949             48.603863  \n",
              "8           2427.425537             56.790905  \n",
              "9           2461.429688             54.189777  "
            ]
          },
          "execution_count": 133,
          "metadata": {},
          "output_type": "execute_result"
        }
      ],
      "source": [
        "df_fake.head(10)"
      ]
    },
    {
      "cell_type": "code",
      "execution_count": null,
      "id": "e955ce9e",
      "metadata": {
        "id": "e955ce9e",
        "outputId": "805640ce-cfb0-4395-d270-371b74d4dcca"
      },
      "outputs": [
        {
          "data": {
            "text/html": [
              "<div>\n",
              "<style scoped>\n",
              "    .dataframe tbody tr th:only-of-type {\n",
              "        vertical-align: middle;\n",
              "    }\n",
              "\n",
              "    .dataframe tbody tr th {\n",
              "        vertical-align: top;\n",
              "    }\n",
              "\n",
              "    .dataframe thead th {\n",
              "        text-align: right;\n",
              "    }\n",
              "</style>\n",
              "<table border=\"1\" class=\"dataframe\">\n",
              "  <thead>\n",
              "    <tr style=\"text-align: right;\">\n",
              "      <th></th>\n",
              "      <th>Age at CT</th>\n",
              "      <th>DEATH [d from CT]</th>\n",
              "      <th>L1_HU_BMD</th>\n",
              "      <th>TAT Area (cm2)</th>\n",
              "      <th>Total Body                Area EA (cm2)</th>\n",
              "      <th>VAT Area (cm2)</th>\n",
              "      <th>SAT Area (cm2)</th>\n",
              "      <th>VAT/SAT     Ratio</th>\n",
              "      <th>Muscle HU</th>\n",
              "      <th>Muscle Area (cm2)</th>\n",
              "      <th>L3 SMI (cm2/m2)</th>\n",
              "      <th>AoCa        Agatston</th>\n",
              "      <th>Liver HU    (Median)</th>\n",
              "    </tr>\n",
              "  </thead>\n",
              "  <tbody>\n",
              "    <tr>\n",
              "      <th>0</th>\n",
              "      <td>73</td>\n",
              "      <td>967.0</td>\n",
              "      <td>135.0</td>\n",
              "      <td>407.463977</td>\n",
              "      <td>721.279362</td>\n",
              "      <td>212.316698</td>\n",
              "      <td>199.007129</td>\n",
              "      <td>1.220394</td>\n",
              "      <td>18.200000</td>\n",
              "      <td>170.100000</td>\n",
              "      <td>58.700000</td>\n",
              "      <td>5473.6</td>\n",
              "      <td>35.0</td>\n",
              "    </tr>\n",
              "    <tr>\n",
              "      <th>1</th>\n",
              "      <td>55</td>\n",
              "      <td>359.0</td>\n",
              "      <td>192.0</td>\n",
              "      <td>485.500000</td>\n",
              "      <td>694.300000</td>\n",
              "      <td>183.500000</td>\n",
              "      <td>302.000000</td>\n",
              "      <td>0.610000</td>\n",
              "      <td>16.200000</td>\n",
              "      <td>124.000000</td>\n",
              "      <td>48.400000</td>\n",
              "      <td>2709.1</td>\n",
              "      <td>52.0</td>\n",
              "    </tr>\n",
              "    <tr>\n",
              "      <th>2</th>\n",
              "      <td>60</td>\n",
              "      <td>2351.0</td>\n",
              "      <td>149.0</td>\n",
              "      <td>289.100000</td>\n",
              "      <td>584.500000</td>\n",
              "      <td>144.000000</td>\n",
              "      <td>145.100000</td>\n",
              "      <td>0.990000</td>\n",
              "      <td>30.800000</td>\n",
              "      <td>212.300000</td>\n",
              "      <td>69.100000</td>\n",
              "      <td>2586.6</td>\n",
              "      <td>57.0</td>\n",
              "    </tr>\n",
              "    <tr>\n",
              "      <th>3</th>\n",
              "      <td>88</td>\n",
              "      <td>658.0</td>\n",
              "      <td>106.0</td>\n",
              "      <td>315.500000</td>\n",
              "      <td>588.900000</td>\n",
              "      <td>202.300000</td>\n",
              "      <td>113.200000</td>\n",
              "      <td>1.790000</td>\n",
              "      <td>-3.200000</td>\n",
              "      <td>168.900000</td>\n",
              "      <td>47.800000</td>\n",
              "      <td>431.5</td>\n",
              "      <td>53.0</td>\n",
              "    </tr>\n",
              "    <tr>\n",
              "      <th>4</th>\n",
              "      <td>82</td>\n",
              "      <td>1970.0</td>\n",
              "      <td>77.0</td>\n",
              "      <td>213.500000</td>\n",
              "      <td>452.900000</td>\n",
              "      <td>113.600000</td>\n",
              "      <td>99.900000</td>\n",
              "      <td>1.140000</td>\n",
              "      <td>1.500000</td>\n",
              "      <td>89.500000</td>\n",
              "      <td>30.900000</td>\n",
              "      <td>1600.0</td>\n",
              "      <td>49.0</td>\n",
              "    </tr>\n",
              "    <tr>\n",
              "      <th>...</th>\n",
              "      <td>...</td>\n",
              "      <td>...</td>\n",
              "      <td>...</td>\n",
              "      <td>...</td>\n",
              "      <td>...</td>\n",
              "      <td>...</td>\n",
              "      <td>...</td>\n",
              "      <td>...</td>\n",
              "      <td>...</td>\n",
              "      <td>...</td>\n",
              "      <td>...</td>\n",
              "      <td>...</td>\n",
              "      <td>...</td>\n",
              "    </tr>\n",
              "    <tr>\n",
              "      <th>544</th>\n",
              "      <td>49</td>\n",
              "      <td>337.0</td>\n",
              "      <td>259.0</td>\n",
              "      <td>757.400000</td>\n",
              "      <td>1318.100000</td>\n",
              "      <td>355.900000</td>\n",
              "      <td>401.600000</td>\n",
              "      <td>0.890000</td>\n",
              "      <td>21.200000</td>\n",
              "      <td>228.300000</td>\n",
              "      <td>76.500000</td>\n",
              "      <td>122.4</td>\n",
              "      <td>56.0</td>\n",
              "    </tr>\n",
              "    <tr>\n",
              "      <th>545</th>\n",
              "      <td>70</td>\n",
              "      <td>917.0</td>\n",
              "      <td>138.0</td>\n",
              "      <td>339.800000</td>\n",
              "      <td>585.400000</td>\n",
              "      <td>146.000000</td>\n",
              "      <td>193.800000</td>\n",
              "      <td>0.750000</td>\n",
              "      <td>18.200000</td>\n",
              "      <td>70.600000</td>\n",
              "      <td>28.500000</td>\n",
              "      <td>2688.1</td>\n",
              "      <td>55.0</td>\n",
              "    </tr>\n",
              "    <tr>\n",
              "      <th>546</th>\n",
              "      <td>63</td>\n",
              "      <td>757.0</td>\n",
              "      <td>118.0</td>\n",
              "      <td>457.400000</td>\n",
              "      <td>930.100000</td>\n",
              "      <td>148.200000</td>\n",
              "      <td>309.200000</td>\n",
              "      <td>0.480000</td>\n",
              "      <td>8.700000</td>\n",
              "      <td>99.100000</td>\n",
              "      <td>38.700000</td>\n",
              "      <td>0.0</td>\n",
              "      <td>43.0</td>\n",
              "    </tr>\n",
              "    <tr>\n",
              "      <th>547</th>\n",
              "      <td>42</td>\n",
              "      <td>105.0</td>\n",
              "      <td>271.0</td>\n",
              "      <td>407.463977</td>\n",
              "      <td>721.279362</td>\n",
              "      <td>212.316698</td>\n",
              "      <td>199.007129</td>\n",
              "      <td>1.220394</td>\n",
              "      <td>20.822527</td>\n",
              "      <td>150.863736</td>\n",
              "      <td>52.223938</td>\n",
              "      <td>149.4</td>\n",
              "      <td>55.0</td>\n",
              "    </tr>\n",
              "    <tr>\n",
              "      <th>548</th>\n",
              "      <td>75</td>\n",
              "      <td>583.0</td>\n",
              "      <td>137.0</td>\n",
              "      <td>406.100000</td>\n",
              "      <td>705.700000</td>\n",
              "      <td>210.000000</td>\n",
              "      <td>196.100000</td>\n",
              "      <td>1.070000</td>\n",
              "      <td>7.500000</td>\n",
              "      <td>82.500000</td>\n",
              "      <td>24.000000</td>\n",
              "      <td>9354.0</td>\n",
              "      <td>46.0</td>\n",
              "    </tr>\n",
              "  </tbody>\n",
              "</table>\n",
              "<p>549 rows × 13 columns</p>\n",
              "</div>"
            ],
            "text/plain": [
              "     Age at CT  DEATH [d from CT]  L1_HU_BMD  TAT Area (cm2)  \\\n",
              "0           73              967.0      135.0      407.463977   \n",
              "1           55              359.0      192.0      485.500000   \n",
              "2           60             2351.0      149.0      289.100000   \n",
              "3           88              658.0      106.0      315.500000   \n",
              "4           82             1970.0       77.0      213.500000   \n",
              "..         ...                ...        ...             ...   \n",
              "544         49              337.0      259.0      757.400000   \n",
              "545         70              917.0      138.0      339.800000   \n",
              "546         63              757.0      118.0      457.400000   \n",
              "547         42              105.0      271.0      407.463977   \n",
              "548         75              583.0      137.0      406.100000   \n",
              "\n",
              "     Total Body                Area EA (cm2)  VAT Area (cm2)  SAT Area (cm2)  \\\n",
              "0                                 721.279362      212.316698      199.007129   \n",
              "1                                 694.300000      183.500000      302.000000   \n",
              "2                                 584.500000      144.000000      145.100000   \n",
              "3                                 588.900000      202.300000      113.200000   \n",
              "4                                 452.900000      113.600000       99.900000   \n",
              "..                                       ...             ...             ...   \n",
              "544                              1318.100000      355.900000      401.600000   \n",
              "545                               585.400000      146.000000      193.800000   \n",
              "546                               930.100000      148.200000      309.200000   \n",
              "547                               721.279362      212.316698      199.007129   \n",
              "548                               705.700000      210.000000      196.100000   \n",
              "\n",
              "     VAT/SAT     Ratio  Muscle HU   Muscle Area (cm2)  L3 SMI (cm2/m2)  \\\n",
              "0             1.220394  18.200000          170.100000        58.700000   \n",
              "1             0.610000  16.200000          124.000000        48.400000   \n",
              "2             0.990000  30.800000          212.300000        69.100000   \n",
              "3             1.790000  -3.200000          168.900000        47.800000   \n",
              "4             1.140000   1.500000           89.500000        30.900000   \n",
              "..                 ...        ...                 ...              ...   \n",
              "544           0.890000  21.200000          228.300000        76.500000   \n",
              "545           0.750000  18.200000           70.600000        28.500000   \n",
              "546           0.480000   8.700000           99.100000        38.700000   \n",
              "547           1.220394  20.822527          150.863736        52.223938   \n",
              "548           1.070000   7.500000           82.500000        24.000000   \n",
              "\n",
              "     AoCa        Agatston  Liver HU    (Median)  \n",
              "0                  5473.6                  35.0  \n",
              "1                  2709.1                  52.0  \n",
              "2                  2586.6                  57.0  \n",
              "3                   431.5                  53.0  \n",
              "4                  1600.0                  49.0  \n",
              "..                    ...                   ...  \n",
              "544                 122.4                  56.0  \n",
              "545                2688.1                  55.0  \n",
              "546                   0.0                  43.0  \n",
              "547                 149.4                  55.0  \n",
              "548                9354.0                  46.0  \n",
              "\n",
              "[549 rows x 13 columns]"
            ]
          },
          "execution_count": 134,
          "metadata": {},
          "output_type": "execute_result"
        }
      ],
      "source": [
        "df_base\n"
      ]
    },
    {
      "cell_type": "code",
      "execution_count": null,
      "id": "bfaf6dc3",
      "metadata": {
        "id": "bfaf6dc3"
      },
      "outputs": [],
      "source": [
        "df2 = pd.concat([df_base, df_fake], ignore_index=True, sort=False)"
      ]
    },
    {
      "cell_type": "code",
      "execution_count": null,
      "id": "7eda563d",
      "metadata": {
        "id": "7eda563d",
        "outputId": "59a90a8b-9f87-4082-b0d6-f4111824dda8"
      },
      "outputs": [
        {
          "data": {
            "text/plain": [
              "(949, 13)"
            ]
          },
          "execution_count": 136,
          "metadata": {},
          "output_type": "execute_result"
        }
      ],
      "source": [
        "df2.shape"
      ]
    },
    {
      "cell_type": "code",
      "execution_count": null,
      "id": "773c70f4",
      "metadata": {
        "id": "773c70f4"
      },
      "outputs": [],
      "source": [
        "df2.to_csv(\"Augmented CT Data\",index = False)"
      ]
    },
    {
      "cell_type": "code",
      "execution_count": null,
      "id": "35f6fff1",
      "metadata": {
        "id": "35f6fff1"
      },
      "outputs": [],
      "source": [
        ""
      ]
    }
  ],
  "metadata": {
    "kernelspec": {
      "display_name": "Python 3 (ipykernel)",
      "language": "python",
      "name": "python3"
    },
    "language_info": {
      "codemirror_mode": {
        "name": "ipython",
        "version": 3
      },
      "file_extension": ".py",
      "mimetype": "text/x-python",
      "name": "python",
      "nbconvert_exporter": "python",
      "pygments_lexer": "ipython3",
      "version": "3.9.7"
    },
    "colab": {
      "name": "Data Augmentation.ipynb",
      "provenance": [],
      "collapsed_sections": [],
      "include_colab_link": true
    }
  },
  "nbformat": 4,
  "nbformat_minor": 5
}