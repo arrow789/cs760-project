{
  "cells": [
    {
      "cell_type": "markdown",
      "metadata": {
        "id": "view-in-github",
        "colab_type": "text"
      },
      "source": [
        "<a href=\"https://colab.research.google.com/github/arrow789/cs760-project/blob/master/Death_Prediction_Model_using_augmented_data.ipynb\" target=\"_parent\"><img src=\"https://colab.research.google.com/assets/colab-badge.svg\" alt=\"Open In Colab\"/></a>"
      ]
    },
    {
      "cell_type": "code",
      "execution_count": null,
      "id": "49fb031f",
      "metadata": {
        "id": "49fb031f"
      },
      "outputs": [],
      "source": [
        "import pandas as pd\n",
        "import numpy as np\n",
        "import matplotlib.pyplot as plt\n",
        "import seaborn as sns\n",
        "from scipy import stats\n",
        "\n",
        "from sklearn.ensemble import RandomForestRegressor\n",
        "\n",
        "from sklearn.ensemble import RandomForestClassifier\n",
        "from sklearn.model_selection import train_test_split\n",
        "from sklearn.preprocessing import StandardScaler\n",
        "from sklearn.metrics import confusion_matrix\n",
        "from sklearn.ensemble import BaggingRegressor\n",
        "from sklearn.svm import SVR\n",
        "from sklearn.model_selection import RepeatedStratifiedKFold\n",
        "from sklearn.linear_model import LogisticRegression\n",
        "from sklearn.linear_model import LinearRegression\n",
        "\n",
        "\n",
        "from sklearn.metrics import mean_absolute_error\n",
        "from sklearn.metrics import mean_squared_error\n",
        "\n",
        "from sklearn.metrics import r2_score\n",
        "\n",
        "from sklearn import metrics "
      ]
    },
    {
      "cell_type": "code",
      "execution_count": null,
      "id": "1b64836f",
      "metadata": {
        "id": "1b64836f"
      },
      "outputs": [],
      "source": [
        "death_df = pd.read_csv(\"Augmented CT Data\")"
      ]
    },
    {
      "cell_type": "code",
      "execution_count": null,
      "id": "dabc0c39",
      "metadata": {
        "id": "dabc0c39",
        "outputId": "630c6747-a514-4138-b265-79438f236ad3"
      },
      "outputs": [
        {
          "data": {
            "text/html": [
              "<div>\n",
              "<style scoped>\n",
              "    .dataframe tbody tr th:only-of-type {\n",
              "        vertical-align: middle;\n",
              "    }\n",
              "\n",
              "    .dataframe tbody tr th {\n",
              "        vertical-align: top;\n",
              "    }\n",
              "\n",
              "    .dataframe thead th {\n",
              "        text-align: right;\n",
              "    }\n",
              "</style>\n",
              "<table border=\"1\" class=\"dataframe\">\n",
              "  <thead>\n",
              "    <tr style=\"text-align: right;\">\n",
              "      <th></th>\n",
              "      <th>Age at CT</th>\n",
              "      <th>DEATH [d from CT]</th>\n",
              "      <th>L1_HU_BMD</th>\n",
              "      <th>TAT Area (cm2)</th>\n",
              "      <th>Total Body                Area EA (cm2)</th>\n",
              "      <th>VAT Area (cm2)</th>\n",
              "      <th>SAT Area (cm2)</th>\n",
              "      <th>VAT/SAT     Ratio</th>\n",
              "      <th>Muscle HU</th>\n",
              "      <th>Muscle Area (cm2)</th>\n",
              "      <th>L3 SMI (cm2/m2)</th>\n",
              "      <th>AoCa        Agatston</th>\n",
              "      <th>Liver HU    (Median)</th>\n",
              "    </tr>\n",
              "  </thead>\n",
              "  <tbody>\n",
              "    <tr>\n",
              "      <th>0</th>\n",
              "      <td>73.0</td>\n",
              "      <td>967.0</td>\n",
              "      <td>135.0</td>\n",
              "      <td>407.463977</td>\n",
              "      <td>721.279362</td>\n",
              "      <td>212.316698</td>\n",
              "      <td>199.007129</td>\n",
              "      <td>1.220394</td>\n",
              "      <td>18.2</td>\n",
              "      <td>170.1</td>\n",
              "      <td>58.7</td>\n",
              "      <td>5473.6</td>\n",
              "      <td>35.0</td>\n",
              "    </tr>\n",
              "    <tr>\n",
              "      <th>1</th>\n",
              "      <td>55.0</td>\n",
              "      <td>359.0</td>\n",
              "      <td>192.0</td>\n",
              "      <td>485.500000</td>\n",
              "      <td>694.300000</td>\n",
              "      <td>183.500000</td>\n",
              "      <td>302.000000</td>\n",
              "      <td>0.610000</td>\n",
              "      <td>16.2</td>\n",
              "      <td>124.0</td>\n",
              "      <td>48.4</td>\n",
              "      <td>2709.1</td>\n",
              "      <td>52.0</td>\n",
              "    </tr>\n",
              "    <tr>\n",
              "      <th>2</th>\n",
              "      <td>60.0</td>\n",
              "      <td>2351.0</td>\n",
              "      <td>149.0</td>\n",
              "      <td>289.100000</td>\n",
              "      <td>584.500000</td>\n",
              "      <td>144.000000</td>\n",
              "      <td>145.100000</td>\n",
              "      <td>0.990000</td>\n",
              "      <td>30.8</td>\n",
              "      <td>212.3</td>\n",
              "      <td>69.1</td>\n",
              "      <td>2586.6</td>\n",
              "      <td>57.0</td>\n",
              "    </tr>\n",
              "    <tr>\n",
              "      <th>3</th>\n",
              "      <td>88.0</td>\n",
              "      <td>658.0</td>\n",
              "      <td>106.0</td>\n",
              "      <td>315.500000</td>\n",
              "      <td>588.900000</td>\n",
              "      <td>202.300000</td>\n",
              "      <td>113.200000</td>\n",
              "      <td>1.790000</td>\n",
              "      <td>-3.2</td>\n",
              "      <td>168.9</td>\n",
              "      <td>47.8</td>\n",
              "      <td>431.5</td>\n",
              "      <td>53.0</td>\n",
              "    </tr>\n",
              "    <tr>\n",
              "      <th>4</th>\n",
              "      <td>82.0</td>\n",
              "      <td>1970.0</td>\n",
              "      <td>77.0</td>\n",
              "      <td>213.500000</td>\n",
              "      <td>452.900000</td>\n",
              "      <td>113.600000</td>\n",
              "      <td>99.900000</td>\n",
              "      <td>1.140000</td>\n",
              "      <td>1.5</td>\n",
              "      <td>89.5</td>\n",
              "      <td>30.9</td>\n",
              "      <td>1600.0</td>\n",
              "      <td>49.0</td>\n",
              "    </tr>\n",
              "  </tbody>\n",
              "</table>\n",
              "</div>"
            ],
            "text/plain": [
              "   Age at CT  DEATH [d from CT]  L1_HU_BMD  TAT Area (cm2)  \\\n",
              "0       73.0              967.0      135.0      407.463977   \n",
              "1       55.0              359.0      192.0      485.500000   \n",
              "2       60.0             2351.0      149.0      289.100000   \n",
              "3       88.0              658.0      106.0      315.500000   \n",
              "4       82.0             1970.0       77.0      213.500000   \n",
              "\n",
              "   Total Body                Area EA (cm2)  VAT Area (cm2)  SAT Area (cm2)  \\\n",
              "0                               721.279362      212.316698      199.007129   \n",
              "1                               694.300000      183.500000      302.000000   \n",
              "2                               584.500000      144.000000      145.100000   \n",
              "3                               588.900000      202.300000      113.200000   \n",
              "4                               452.900000      113.600000       99.900000   \n",
              "\n",
              "   VAT/SAT     Ratio  Muscle HU   Muscle Area (cm2)  L3 SMI (cm2/m2)  \\\n",
              "0           1.220394       18.2               170.1             58.7   \n",
              "1           0.610000       16.2               124.0             48.4   \n",
              "2           0.990000       30.8               212.3             69.1   \n",
              "3           1.790000       -3.2               168.9             47.8   \n",
              "4           1.140000        1.5                89.5             30.9   \n",
              "\n",
              "   AoCa        Agatston  Liver HU    (Median)  \n",
              "0                5473.6                  35.0  \n",
              "1                2709.1                  52.0  \n",
              "2                2586.6                  57.0  \n",
              "3                 431.5                  53.0  \n",
              "4                1600.0                  49.0  "
            ]
          },
          "execution_count": 203,
          "metadata": {},
          "output_type": "execute_result"
        }
      ],
      "source": [
        "death_df.head()"
      ]
    },
    {
      "cell_type": "code",
      "execution_count": null,
      "id": "ac67e523",
      "metadata": {
        "id": "ac67e523",
        "outputId": "bd9d77c3-e8f9-4941-f1be-585c93c7a87a"
      },
      "outputs": [
        {
          "data": {
            "text/plain": [
              "(949, 13)"
            ]
          },
          "execution_count": 204,
          "metadata": {},
          "output_type": "execute_result"
        }
      ],
      "source": [
        "death_df.shape"
      ]
    },
    {
      "cell_type": "code",
      "execution_count": null,
      "id": "49349c99",
      "metadata": {
        "id": "49349c99"
      },
      "outputs": [],
      "source": [
        "death_df[\"Years alive after CT\"] = death_df['DEATH [d from CT]']/365\n",
        "#death_df['Age at Death'] = death_df['Age at CT'] + death_df['Death']"
      ]
    },
    {
      "cell_type": "markdown",
      "id": "b4e248f5",
      "metadata": {
        "id": "b4e248f5"
      },
      "source": [
        "## Predicting Age at death as a continuous variable"
      ]
    },
    {
      "cell_type": "code",
      "execution_count": null,
      "id": "2d4fda92",
      "metadata": {
        "id": "2d4fda92"
      },
      "outputs": [],
      "source": [
        "death_df['Age at Death'] = death_df['Age at CT'] + death_df['Years alive after CT']"
      ]
    },
    {
      "cell_type": "code",
      "execution_count": null,
      "id": "a691e02f",
      "metadata": {
        "id": "a691e02f"
      },
      "outputs": [],
      "source": [
        "X = np.array(death_df.iloc[:,2:13])\n",
        "Y = np.array(death_df.iloc[:,-1])\n",
        "\n",
        "Y = Y.reshape(-1,1)"
      ]
    },
    {
      "cell_type": "code",
      "execution_count": null,
      "id": "00bebc08",
      "metadata": {
        "id": "00bebc08",
        "outputId": "e0462075-f410-4157-8ac9-16ab0d0c3ddc"
      },
      "outputs": [
        {
          "data": {
            "text/plain": [
              "(949, 11)"
            ]
          },
          "execution_count": 208,
          "metadata": {},
          "output_type": "execute_result"
        }
      ],
      "source": [
        "X.shape"
      ]
    },
    {
      "cell_type": "code",
      "execution_count": null,
      "id": "d28a8b6e",
      "metadata": {
        "id": "d28a8b6e"
      },
      "outputs": [],
      "source": [
        "scaler = StandardScaler()\n",
        "X_scaled = scaler.fit_transform(X)\n",
        "#Y_scaled = scaler.fit_transform(Y)\n",
        "\n",
        "X_train, X_test, y_train, y_test = train_test_split(X_scaled, Y, test_size = 0.30)"
      ]
    },
    {
      "cell_type": "markdown",
      "id": "96a79a63",
      "metadata": {
        "id": "96a79a63"
      },
      "source": [
        "### Model 1: Random Forest"
      ]
    },
    {
      "cell_type": "code",
      "execution_count": null,
      "id": "0e47fb14",
      "metadata": {
        "id": "0e47fb14",
        "outputId": "4936a7e1-fe51-48cf-bd77-cc1ce239f9e7"
      },
      "outputs": [
        {
          "name": "stderr",
          "output_type": "stream",
          "text": [
            "/var/folders/f0/16ccpfvn15x4cfm0wxybq2mw0000gn/T/ipykernel_95046/936050519.py:5: DataConversionWarning: A column-vector y was passed when a 1d array was expected. Please change the shape of y to (n_samples,), for example using ravel().\n",
            "  clf.fit(X_train, y_train)\n"
          ]
        },
        {
          "data": {
            "text/plain": [
              "RandomForestRegressor()"
            ]
          },
          "execution_count": 219,
          "metadata": {},
          "output_type": "execute_result"
        }
      ],
      "source": [
        "from sklearn.ensemble import RandomForestRegressor\n",
        "\n",
        "clf = RandomForestRegressor() \n",
        " \n",
        "clf.fit(X_train, y_train)"
      ]
    },
    {
      "cell_type": "code",
      "execution_count": null,
      "id": "6315e027",
      "metadata": {
        "id": "6315e027",
        "outputId": "ad965b09-a7c7-460a-9f30-6b4ba4cc5d37"
      },
      "outputs": [
        {
          "name": "stdout",
          "output_type": "stream",
          "text": [
            "Evaluation on training data\n",
            "MAE 1.8260958646878793\n",
            "MSE 7.747209005433584\n",
            "R2 score 0.9205791233935053\n",
            "\n",
            "Evaluation on testing data\n",
            "MAE 4.5928462622908635\n",
            "MSE 50.307815351531104\n",
            "R2 score 0.4777936844371482\n"
          ]
        }
      ],
      "source": [
        "###Evaluation on training data\n",
        "y_pred = clf.predict(X_train)\n",
        "\n",
        "print(\"Evaluation on training data\")\n",
        "print(\"MAE\",mean_absolute_error(y_train,y_pred))\n",
        "print(\"MSE\",mean_squared_error(y_train,y_pred))\n",
        "\n",
        "r2 = r2_score(y_train,y_pred)\n",
        "print(\"R2 score\",r2)\n",
        "print()\n",
        "###Evaluation on testing dataset\n",
        "y_pred = clf.predict(X_test)\n",
        "\n",
        "print(\"Evaluation on testing data\")\n",
        "print(\"MAE\",mean_absolute_error(y_test,y_pred))\n",
        "print(\"MSE\",mean_squared_error(y_test,y_pred))\n",
        "\n",
        "r2 = r2_score(y_test,y_pred)\n",
        "print(\"R2 score\", r2)"
      ]
    },
    {
      "cell_type": "code",
      "execution_count": null,
      "id": "0646d508",
      "metadata": {
        "id": "0646d508",
        "outputId": "a1b3f101-1f63-43bb-c1d5-9ee68add6894"
      },
      "outputs": [
        {
          "data": {
            "text/plain": [
              "Text(0.5, 1.0, 'Random Forest Regressor')"
            ]
          },
          "execution_count": 221,
          "metadata": {},
          "output_type": "execute_result"
        },
        {
          "data": {
            "image/png": "[encoded data removed]",
            "text/plain": [
              "<Figure size 432x288 with 1 Axes>"
            ]
          },
          "metadata": {
            "needs_background": "light"
          },
          "output_type": "display_data"
        }
      ],
      "source": [
        "plt.scatter(y_pred,y_test)\n",
        "plt.xlabel(\"Predicted Values\")\n",
        "plt.ylabel(\"Actual Values\")\n",
        "plt.title(\"Random Forest Regressor\")"
      ]
    },
    {
      "cell_type": "markdown",
      "id": "4f5708fa",
      "metadata": {
        "id": "4f5708fa"
      },
      "source": [
        "### Model 2: Linear Regression"
      ]
    },
    {
      "cell_type": "code",
      "execution_count": null,
      "id": "3b2f4c9d",
      "metadata": {
        "id": "3b2f4c9d"
      },
      "outputs": [],
      "source": [
        "clf = LinearRegression().fit(X_train, y_train)"
      ]
    },
    {
      "cell_type": "code",
      "execution_count": null,
      "id": "2cf9a2cf",
      "metadata": {
        "id": "2cf9a2cf",
        "outputId": "64d26e73-6766-45a6-faae-7b04d4ab79be"
      },
      "outputs": [
        {
          "name": "stdout",
          "output_type": "stream",
          "text": [
            "Evaluation on training data\n",
            "MAE 5.435930452420128\n",
            "MSE 60.75636636907822\n",
            "R2 score 0.37715325957086543\n",
            "\n",
            "Evaluation on testing data\n",
            "MAE 5.055748509533664\n",
            "MSE 53.19392064643619\n",
            "R2 score 0.44783526939074825\n"
          ]
        }
      ],
      "source": [
        "###Evaluation on training data\n",
        "y_pred = clf.predict(X_train)\n",
        "\n",
        "print(\"Evaluation on training data\")\n",
        "print(\"MAE\",mean_absolute_error(y_train,y_pred))\n",
        "print(\"MSE\",mean_squared_error(y_train,y_pred))\n",
        "\n",
        "r2 = r2_score(y_train,y_pred)\n",
        "print(\"R2 score\",r2)\n",
        "print()\n",
        "###Evaluation on testing dataset\n",
        "y_pred = clf.predict(X_test)\n",
        "\n",
        "print(\"Evaluation on testing data\")\n",
        "print(\"MAE\",mean_absolute_error(y_test,y_pred))\n",
        "print(\"MSE\",mean_squared_error(y_test,y_pred))\n",
        "\n",
        "r2 = r2_score(y_test,y_pred)\n",
        "print(\"R2 score\", r2)"
      ]
    },
    {
      "cell_type": "code",
      "execution_count": null,
      "id": "5dd1e0bf",
      "metadata": {
        "id": "5dd1e0bf",
        "outputId": "6b08ebe6-5e52-40fc-b917-13597b2bf375"
      },
      "outputs": [
        {
          "data": {
            "text/plain": [
              "Text(0.5, 1.0, 'Logistic Regression')"
            ]
          },
          "execution_count": 224,
          "metadata": {},
          "output_type": "execute_result"
        },
        {
          "data": {
            "image/png": "[encoded data removed]",
            "text/plain": [
              "<Figure size 432x288 with 1 Axes>"
            ]
          },
          "metadata": {
            "needs_background": "light"
          },
          "output_type": "display_data"
        }
      ],
      "source": [
        "plt.scatter(y_pred,y_test)\n",
        "plt.xlabel(\"Predicted Values\")\n",
        "plt.ylabel(\"Actual Values\")\n",
        "plt.title(\"Logistic Regression\")"
      ]
    },
    {
      "cell_type": "markdown",
      "id": "c667722c",
      "metadata": {
        "id": "c667722c"
      },
      "source": [
        "### Model 3: Bagging Regressor"
      ]
    },
    {
      "cell_type": "code",
      "execution_count": null,
      "id": "7a7be4b1",
      "metadata": {
        "id": "7a7be4b1",
        "outputId": "d50bced5-c0c0-4d80-fef4-18f7ea239fa3"
      },
      "outputs": [
        {
          "name": "stderr",
          "output_type": "stream",
          "text": [
            "/Users/sabeekakhan/opt/anaconda3/lib/python3.9/site-packages/sklearn/ensemble/_bagging.py:429: DataConversionWarning: A column-vector y was passed when a 1d array was expected. Please change the shape of y to (n_samples, ), for example using ravel().\n",
            "  return column_or_1d(y, warn=True)\n"
          ]
        }
      ],
      "source": [
        "model = BaggingRegressor()\n",
        "clf = BaggingRegressor(base_estimator=SVR(),\n",
        "                        n_estimators=10, random_state=0).fit(X_train, y_train)"
      ]
    },
    {
      "cell_type": "code",
      "execution_count": null,
      "id": "11208f91",
      "metadata": {
        "id": "11208f91",
        "outputId": "5c20aba0-3a45-4f88-b826-c9d5cd8e2dbc"
      },
      "outputs": [
        {
          "name": "stdout",
          "output_type": "stream",
          "text": [
            "Evaluation on training data\n",
            "MAE 4.816666097405894\n",
            "MSE 55.556926190355924\n",
            "R2 score 0.4304555645128816\n",
            "\n",
            "Evaluation on testing data\n",
            "MAE 4.599265178021838\n",
            "MSE 54.027214796853166\n",
            "R2 score 0.4391854907225897\n"
          ]
        }
      ],
      "source": [
        "###Evaluation on training data\n",
        "y_pred = clf.predict(X_train)\n",
        "\n",
        "print(\"Evaluation on training data\")\n",
        "print(\"MAE\",mean_absolute_error(y_train,y_pred))\n",
        "print(\"MSE\",mean_squared_error(y_train,y_pred))\n",
        "\n",
        "r2 = r2_score(y_train,y_pred)\n",
        "print(\"R2 score\",r2)\n",
        "print()\n",
        "###Evaluation on testing dataset\n",
        "y_pred = clf.predict(X_test)\n",
        "\n",
        "print(\"Evaluation on testing data\")\n",
        "print(\"MAE\",mean_absolute_error(y_test,y_pred))\n",
        "print(\"MSE\",mean_squared_error(y_test,y_pred))\n",
        "\n",
        "r2 = r2_score(y_test,y_pred)\n",
        "print(\"R2 score\", r2)"
      ]
    },
    {
      "cell_type": "code",
      "execution_count": null,
      "id": "19584ecb",
      "metadata": {
        "id": "19584ecb",
        "outputId": "242f89b3-0281-4033-c745-e4a0817ab877"
      },
      "outputs": [
        {
          "data": {
            "text/plain": [
              "Text(0.5, 1.0, 'Bagging Regressor')"
            ]
          },
          "execution_count": 227,
          "metadata": {},
          "output_type": "execute_result"
        },
        {
          "data": {
            "image/png": "[encoded data removed]",
            "text/plain": [
              "<Figure size 432x288 with 1 Axes>"
            ]
          },
          "metadata": {
            "needs_background": "light"
          },
          "output_type": "display_data"
        }
      ],
      "source": [
        "plt.scatter(y_pred,y_test)\n",
        "plt.xlabel(\"Predicted Values\")\n",
        "plt.ylabel(\"Actual Values\")\n",
        "plt.title(\"Bagging Regressor\")"
      ]
    },
    {
      "cell_type": "markdown",
      "id": "a68de7dd",
      "metadata": {
        "id": "a68de7dd"
      },
      "source": [
        "## Predicting Age at death as a categorical variable"
      ]
    },
    {
      "cell_type": "code",
      "execution_count": null,
      "id": "0cf2bfc9",
      "metadata": {
        "id": "0cf2bfc9"
      },
      "outputs": [],
      "source": [
        "from sklearn.preprocessing import LabelEncoder\n",
        "label_encoder = LabelEncoder()\n",
        "\n",
        "category = label_encoder.fit_transform(pd.cut(death_df['Age at Death'], 5, retbins=True)[0])\n",
        "death_df['Categorial Age at Death'] = category"
      ]
    },
    {
      "cell_type": "code",
      "execution_count": null,
      "id": "b913e951",
      "metadata": {
        "id": "b913e951",
        "outputId": "2f9b1374-8ffc-4134-dcd9-8e5d28cdc46c"
      },
      "outputs": [
        {
          "data": {
            "text/plain": [
              "2    444\n",
              "3    399\n",
              "1     54\n",
              "4     50\n",
              "0      2\n",
              "Name: Categorial Age at Death, dtype: int64"
            ]
          },
          "execution_count": 229,
          "metadata": {},
          "output_type": "execute_result"
        }
      ],
      "source": [
        "death_df['Categorial Age at Death'].value_counts()"
      ]
    },
    {
      "cell_type": "code",
      "execution_count": null,
      "id": "8fa0a11b",
      "metadata": {
        "id": "8fa0a11b"
      },
      "outputs": [],
      "source": [
        "X = np.array(death_df.iloc[:,2:13])\n",
        "Y = np.array(death_df.iloc[:,-1])\n",
        "\n",
        "Y = Y.reshape(-1,1)\n",
        "\n"
      ]
    },
    {
      "cell_type": "code",
      "execution_count": null,
      "id": "0cac8372",
      "metadata": {
        "id": "0cac8372"
      },
      "outputs": [],
      "source": [
        "scaler = StandardScaler()\n",
        "X_scaled = scaler.fit_transform(X)\n",
        "\n",
        "X_train, X_test, y_train, y_test = train_test_split(X_scaled, Y, test_size = 0.20)"
      ]
    },
    {
      "cell_type": "markdown",
      "id": "02cb3c71",
      "metadata": {
        "id": "02cb3c71"
      },
      "source": [
        "### Model 1: Random forest\n"
      ]
    },
    {
      "cell_type": "code",
      "execution_count": null,
      "id": "563c5424",
      "metadata": {
        "id": "563c5424",
        "outputId": "5c45d8ee-25f3-48e6-db36-162ab56e86c6"
      },
      "outputs": [
        {
          "name": "stderr",
          "output_type": "stream",
          "text": [
            "/var/folders/f0/16ccpfvn15x4cfm0wxybq2mw0000gn/T/ipykernel_95046/451287631.py:3: DataConversionWarning: A column-vector y was passed when a 1d array was expected. Please change the shape of y to (n_samples,), for example using ravel().\n",
            "  clf.fit(X_train, y_train)\n"
          ]
        },
        {
          "data": {
            "text/plain": [
              "RandomForestClassifier()"
            ]
          },
          "execution_count": 232,
          "metadata": {},
          "output_type": "execute_result"
        }
      ],
      "source": [
        "clf = RandomForestClassifier(n_estimators = 100) \n",
        "\n",
        "clf.fit(X_train, y_train)"
      ]
    },
    {
      "cell_type": "code",
      "execution_count": null,
      "id": "7e20bd7d",
      "metadata": {
        "id": "7e20bd7d",
        "outputId": "fc55c029-65cc-4a12-9507-505d785e6f8c"
      },
      "outputs": [
        {
          "name": "stdout",
          "output_type": "stream",
          "text": [
            "TRAINING ACCURACY OF THE MODEL:  1.0\n",
            "TESTING ACCURACY OF THE MODEL:  0.7421052631578947\n"
          ]
        }
      ],
      "source": [
        "y_pred = clf.predict(X_train)\n",
        " \n",
        "print(\"TRAINING ACCURACY OF THE MODEL: \", metrics.accuracy_score(y_train, y_pred))\n",
        "\n",
        "y_pred = clf.predict(X_test)\n",
        " \n",
        "print(\"TESTING ACCURACY OF THE MODEL: \", metrics.accuracy_score(y_test, y_pred))"
      ]
    },
    {
      "cell_type": "code",
      "execution_count": null,
      "id": "a0c8151c",
      "metadata": {
        "id": "a0c8151c",
        "outputId": "6e88cd46-b638-4ef5-ce77-e1869b38ea46"
      },
      "outputs": [
        {
          "data": {
            "text/plain": [
              "<AxesSubplot:>"
            ]
          },
          "execution_count": 234,
          "metadata": {},
          "output_type": "execute_result"
        },
        {
          "data": {
            "image/png": "[encoded data removed]",
            "text/plain": [
              "<Figure size 432x288 with 1 Axes>"
            ]
          },
          "metadata": {
            "needs_background": "light"
          },
          "output_type": "display_data"
        }
      ],
      "source": [
        "feat_importances = pd.Series(clf.feature_importances_, index=death_df.columns[2:13])\n",
        "feat_importances.nlargest(20).plot(kind='barh')"
      ]
    },
    {
      "cell_type": "code",
      "execution_count": null,
      "id": "7f2fc7d9",
      "metadata": {
        "id": "7f2fc7d9",
        "outputId": "b448837c-8f75-4de0-d70b-bead7628f58e"
      },
      "outputs": [
        {
          "data": {
            "image/png": "[encoded data removed]",
            "text/plain": [
              "<Figure size 432x288 with 2 Axes>"
            ]
          },
          "metadata": {
            "needs_background": "light"
          },
          "output_type": "display_data"
        }
      ],
      "source": [
        "ax= plt.subplot()\n",
        "sns.heatmap(confusion_matrix(y_test, y_pred), annot=True, fmt='g', ax=ax);\n",
        "ax.set_xlabel('Predicted labels');ax.set_ylabel('True labels'); \n",
        "ax.set_title('Confusion Matrix for Random Forest'); \n",
        "ax.xaxis.set_ticklabels(['25 to 40', '40 to 55','55 to 71','71 to 87','>87']); ax.yaxis.set_ticklabels(['25 to 40', '40 to 55','55 to 71','71 to 87','>87']);"
      ]
    },
    {
      "cell_type": "markdown",
      "id": "7767fa0d",
      "metadata": {
        "id": "7767fa0d"
      },
      "source": [
        "### Model 2:  Logistic Regression"
      ]
    },
    {
      "cell_type": "code",
      "execution_count": null,
      "id": "f4374e8c",
      "metadata": {
        "id": "f4374e8c",
        "outputId": "60ffc4d2-a4de-499c-e461-82655530e9f7"
      },
      "outputs": [
        {
          "name": "stdout",
          "output_type": "stream",
          "text": [
            "Training accuracy: 0.7075098814229249\n",
            "Test accuracy: 0.7105263157894737\n",
            "\n"
          ]
        },
        {
          "name": "stderr",
          "output_type": "stream",
          "text": [
            "/Users/sabeekakhan/opt/anaconda3/lib/python3.9/site-packages/sklearn/utils/validation.py:993: DataConversionWarning: A column-vector y was passed when a 1d array was expected. Please change the shape of y to (n_samples, ), for example using ravel().\n",
            "  y = column_or_1d(y, warn=True)\n",
            "/Users/sabeekakhan/opt/anaconda3/lib/python3.9/site-packages/sklearn/linear_model/_logistic.py:814: ConvergenceWarning: lbfgs failed to converge (status=1):\n",
            "STOP: TOTAL NO. of ITERATIONS REACHED LIMIT.\n",
            "\n",
            "Increase the number of iterations (max_iter) or scale the data as shown in:\n",
            "    https://scikit-learn.org/stable/modules/preprocessing.html\n",
            "Please also refer to the documentation for alternative solver options:\n",
            "    https://scikit-learn.org/stable/modules/linear_model.html#logistic-regression\n",
            "  n_iter_i = _check_optimize_result(\n"
          ]
        }
      ],
      "source": [
        "clf = LogisticRegression()\n",
        "clf.fit(X_train, y_train)\n",
        "print('Training accuracy:', clf.score(X_train, y_train))\n",
        "print('Test accuracy:', clf.score(X_test, y_test))\n",
        "print('')"
      ]
    },
    {
      "cell_type": "code",
      "execution_count": null,
      "id": "f71e83f2",
      "metadata": {
        "id": "f71e83f2",
        "outputId": "4488fac2-9517-4f1b-8d33-faccd33e9153"
      },
      "outputs": [
        {
          "name": "stdout",
          "output_type": "stream",
          "text": [
            "TRAINING ACCURACY OF THE MODEL:  0.7075098814229249\n",
            "TESTING ACCURACY OF THE MODEL:  0.7105263157894737\n"
          ]
        }
      ],
      "source": [
        "y_pred = clf.predict(X_train)\n",
        " \n",
        "print(\"TRAINING ACCURACY OF THE MODEL: \", metrics.accuracy_score(y_train, y_pred))\n",
        "\n",
        "y_pred = clf.predict(X_test)\n",
        " \n",
        "print(\"TESTING ACCURACY OF THE MODEL: \", metrics.accuracy_score(y_test, y_pred))"
      ]
    },
    {
      "cell_type": "code",
      "execution_count": null,
      "id": "47ae15f9",
      "metadata": {
        "id": "47ae15f9",
        "outputId": "b279dba8-1b02-4565-e448-3747dc649e1d"
      },
      "outputs": [
        {
          "data": {
            "image/png": "[encoded data removed]",
            "text/plain": [
              "<Figure size 432x288 with 2 Axes>"
            ]
          },
          "metadata": {
            "needs_background": "light"
          },
          "output_type": "display_data"
        }
      ],
      "source": [
        "ax= plt.subplot()\n",
        "sns.heatmap(confusion_matrix(y_test, y_pred), annot=True, fmt='g', ax=ax);\n",
        "ax.set_xlabel('Predicted labels');ax.set_ylabel('True labels'); \n",
        "ax.set_title('Confusion Matrix for Random Forest'); \n",
        "ax.xaxis.set_ticklabels(['25 to 40', '40 to 55','55 to 71','71 to 87','>87']); ax.yaxis.set_ticklabels(['25 to 40', '40 to 55','55 to 71','71 to 87','>87']);"
      ]
    },
    {
      "cell_type": "code",
      "execution_count": null,
      "id": "90c8866c",
      "metadata": {
        "id": "90c8866c"
      },
      "outputs": [],
      "source": [
        "# C = [10, 1, .1, .001]\n",
        "# for c in C:\n",
        "    \n",
        "#     clf = LogisticRegression(penalty='l1', C=c, solver='liblinear')\n",
        "#     clf.fit(X_train, y_train)\n",
        "#     print('Training accuracy:', clf.score(X_train, y_train))\n",
        "#     print('Test accuracy:', clf.score(X_test, y_test))\n",
        "#     print('')"
      ]
    },
    {
      "cell_type": "markdown",
      "id": "8a931ccd",
      "metadata": {
        "id": "8a931ccd"
      },
      "source": [
        "### Model 3: Bagging Classfier"
      ]
    },
    {
      "cell_type": "code",
      "execution_count": null,
      "id": "a6feea13",
      "metadata": {
        "id": "a6feea13",
        "outputId": "4d7e0938-6cc9-4cde-88b9-df8a5028944b"
      },
      "outputs": [
        {
          "name": "stderr",
          "output_type": "stream",
          "text": [
            "/Users/sabeekakhan/opt/anaconda3/lib/python3.9/site-packages/sklearn/ensemble/_bagging.py:719: DataConversionWarning: A column-vector y was passed when a 1d array was expected. Please change the shape of y to (n_samples, ), for example using ravel().\n",
            "  y = column_or_1d(y, warn=True)\n",
            "warning: class label 0 specified in weight is not found\n",
            "warning: class label 0 specified in weight is not found\n",
            "warning: class label 0 specified in weight is not found\n",
            "warning: class label 0 specified in weight is not found\n"
          ]
        }
      ],
      "source": [
        "from sklearn.svm import SVC\n",
        "from sklearn.ensemble import BaggingClassifier\n",
        "\n",
        "clf = BaggingClassifier(base_estimator=SVC(),\n",
        "                        n_estimators=10, random_state=0).fit(X_train, y_train)\n"
      ]
    },
    {
      "cell_type": "code",
      "execution_count": null,
      "id": "b25564b9",
      "metadata": {
        "id": "b25564b9",
        "outputId": "7db184c4-c1c0-4378-d3ee-9b1e00f93995"
      },
      "outputs": [
        {
          "name": "stdout",
          "output_type": "stream",
          "text": [
            "TRAINING ACCURACY OF THE MODEL:  0.7720685111989459\n",
            "TESTING ACCURACY OF THE MODEL:  0.7210526315789474\n"
          ]
        }
      ],
      "source": [
        "y_pred = clf.predict(X_train)\n",
        " \n",
        "print(\"TRAINING ACCURACY OF THE MODEL: \", metrics.accuracy_score(y_train, y_pred))\n",
        "\n",
        "y_pred = clf.predict(X_test)\n",
        " \n",
        "print(\"TESTING ACCURACY OF THE MODEL: \", metrics.accuracy_score(y_test, y_pred))"
      ]
    },
    {
      "cell_type": "code",
      "execution_count": null,
      "id": "099461ab",
      "metadata": {
        "id": "099461ab",
        "outputId": "09ef2a33-d524-41b3-d5e2-94b41500efa0"
      },
      "outputs": [
        {
          "data": {
            "image/png": "[encoded data removed]",
            "text/plain": [
              "<Figure size 432x288 with 2 Axes>"
            ]
          },
          "metadata": {
            "needs_background": "light"
          },
          "output_type": "display_data"
        }
      ],
      "source": [
        "ax= plt.subplot()\n",
        "sns.heatmap(confusion_matrix(y_test, y_pred), annot=True, fmt='g', ax=ax);\n",
        "ax.set_xlabel('Predicted labels');ax.set_ylabel('True labels'); \n",
        "ax.set_title('Confusion Matrix for Random Forest'); \n",
        "ax.xaxis.set_ticklabels(['25 to 40', '40 to 55','55 to 71','71 to 87','>87']); ax.yaxis.set_ticklabels(['25 to 40', '40 to 55','55 to 71','71 to 87','>87']);"
      ]
    },
    {
      "cell_type": "markdown",
      "id": "f6dc3734",
      "metadata": {
        "id": "f6dc3734"
      },
      "source": [
        "### Testing on alive patients"
      ]
    },
    {
      "cell_type": "code",
      "execution_count": null,
      "id": "d65f3971",
      "metadata": {
        "id": "d65f3971"
      },
      "outputs": [],
      "source": [
        "df = pd.read_excel('OppScrData.xlsx')  \n",
        "df = df.iloc[: , :52]"
      ]
    },
    {
      "cell_type": "code",
      "execution_count": null,
      "id": "525c6df4",
      "metadata": {
        "id": "525c6df4",
        "outputId": "85017a8c-736e-4525-90f0-2989c7ed4b8a"
      },
      "outputs": [
        {
          "data": {
            "text/html": [
              "<div>\n",
              "<style scoped>\n",
              "    .dataframe tbody tr th:only-of-type {\n",
              "        vertical-align: middle;\n",
              "    }\n",
              "\n",
              "    .dataframe tbody tr th {\n",
              "        vertical-align: top;\n",
              "    }\n",
              "\n",
              "    .dataframe thead th {\n",
              "        text-align: right;\n",
              "    }\n",
              "</style>\n",
              "<table border=\"1\" class=\"dataframe\">\n",
              "  <thead>\n",
              "    <tr style=\"text-align: right;\">\n",
              "      <th></th>\n",
              "      <th>L1_HU_BMD</th>\n",
              "      <th>TAT Area (cm2)</th>\n",
              "      <th>Total Body                Area EA (cm2)</th>\n",
              "      <th>VAT Area (cm2)</th>\n",
              "      <th>SAT Area (cm2)</th>\n",
              "      <th>VAT/SAT     Ratio</th>\n",
              "      <th>Muscle HU</th>\n",
              "      <th>Muscle Area (cm2)</th>\n",
              "      <th>L3 SMI (cm2/m2)</th>\n",
              "      <th>AoCa        Agatston</th>\n",
              "      <th>Liver HU    (Median)</th>\n",
              "      <th>DEATH [d from CT]</th>\n",
              "      <th>Age at CT</th>\n",
              "      <th>Clinical F/U interval  [d from CT]</th>\n",
              "      <th>Current Age</th>\n",
              "    </tr>\n",
              "  </thead>\n",
              "  <tbody>\n",
              "    <tr>\n",
              "      <th>0</th>\n",
              "      <td>135.0</td>\n",
              "      <td>NaN</td>\n",
              "      <td>NaN</td>\n",
              "      <td>NaN</td>\n",
              "      <td>NaN</td>\n",
              "      <td>NaN</td>\n",
              "      <td>18.242557</td>\n",
              "      <td>170.053192</td>\n",
              "      <td>58.717526</td>\n",
              "      <td>5473.561</td>\n",
              "      <td>35</td>\n",
              "      <td>967.0</td>\n",
              "      <td>73</td>\n",
              "      <td>907</td>\n",
              "      <td>75.484932</td>\n",
              "    </tr>\n",
              "    <tr>\n",
              "      <th>1</th>\n",
              "      <td>192.0</td>\n",
              "      <td>485.502857</td>\n",
              "      <td>694.314286</td>\n",
              "      <td>183.497143</td>\n",
              "      <td>302.008571</td>\n",
              "      <td>0.607589</td>\n",
              "      <td>16.150123</td>\n",
              "      <td>123.968745</td>\n",
              "      <td>48.413187</td>\n",
              "      <td>2709.064</td>\n",
              "      <td>52</td>\n",
              "      <td>359.0</td>\n",
              "      <td>55</td>\n",
              "      <td>359</td>\n",
              "      <td>55.983562</td>\n",
              "    </tr>\n",
              "    <tr>\n",
              "      <th>2</th>\n",
              "      <td>256.0</td>\n",
              "      <td>490.054545</td>\n",
              "      <td>706.051515</td>\n",
              "      <td>159.706061</td>\n",
              "      <td>330.348485</td>\n",
              "      <td>0.483447</td>\n",
              "      <td>23.337964</td>\n",
              "      <td>136.566261</td>\n",
              "      <td>50.101332</td>\n",
              "      <td>0.000</td>\n",
              "      <td>54</td>\n",
              "      <td>0.0</td>\n",
              "      <td>52</td>\n",
              "      <td>412</td>\n",
              "      <td>53.128767</td>\n",
              "    </tr>\n",
              "    <tr>\n",
              "      <th>3</th>\n",
              "      <td>149.0</td>\n",
              "      <td>289.108108</td>\n",
              "      <td>584.489189</td>\n",
              "      <td>144.002703</td>\n",
              "      <td>145.102703</td>\n",
              "      <td>0.992419</td>\n",
              "      <td>30.804567</td>\n",
              "      <td>212.296726</td>\n",
              "      <td>69.115854</td>\n",
              "      <td>2586.575</td>\n",
              "      <td>57</td>\n",
              "      <td>2351.0</td>\n",
              "      <td>60</td>\n",
              "      <td>2333</td>\n",
              "      <td>66.391781</td>\n",
              "    </tr>\n",
              "    <tr>\n",
              "      <th>4</th>\n",
              "      <td>106.0</td>\n",
              "      <td>315.530769</td>\n",
              "      <td>588.892308</td>\n",
              "      <td>202.317949</td>\n",
              "      <td>113.212821</td>\n",
              "      <td>1.787059</td>\n",
              "      <td>-3.181874</td>\n",
              "      <td>168.923950</td>\n",
              "      <td>47.814581</td>\n",
              "      <td>431.519</td>\n",
              "      <td>53</td>\n",
              "      <td>658.0</td>\n",
              "      <td>88</td>\n",
              "      <td>532</td>\n",
              "      <td>89.457534</td>\n",
              "    </tr>\n",
              "  </tbody>\n",
              "</table>\n",
              "</div>"
            ],
            "text/plain": [
              "   L1_HU_BMD  TAT Area (cm2)  Total Body                Area EA (cm2)  \\\n",
              "0      135.0             NaN                                      NaN   \n",
              "1      192.0      485.502857                               694.314286   \n",
              "2      256.0      490.054545                               706.051515   \n",
              "3      149.0      289.108108                               584.489189   \n",
              "4      106.0      315.530769                               588.892308   \n",
              "\n",
              "   VAT Area (cm2)  SAT Area (cm2)  VAT/SAT     Ratio  Muscle HU  \\\n",
              "0             NaN             NaN                NaN  18.242557   \n",
              "1      183.497143      302.008571           0.607589  16.150123   \n",
              "2      159.706061      330.348485           0.483447  23.337964   \n",
              "3      144.002703      145.102703           0.992419  30.804567   \n",
              "4      202.317949      113.212821           1.787059  -3.181874   \n",
              "\n",
              "    Muscle Area (cm2)  L3 SMI (cm2/m2)  AoCa        Agatston  \\\n",
              "0          170.053192        58.717526              5473.561   \n",
              "1          123.968745        48.413187              2709.064   \n",
              "2          136.566261        50.101332                 0.000   \n",
              "3          212.296726        69.115854              2586.575   \n",
              "4          168.923950        47.814581               431.519   \n",
              "\n",
              "  Liver HU    (Median)  DEATH [d from CT]  Age at CT  \\\n",
              "0                   35              967.0         73   \n",
              "1                   52              359.0         55   \n",
              "2                   54                0.0         52   \n",
              "3                   57             2351.0         60   \n",
              "4                   53              658.0         88   \n",
              "\n",
              "   Clinical F/U interval  [d from CT]  Current Age  \n",
              "0                                 907    75.484932  \n",
              "1                                 359    55.983562  \n",
              "2                                 412    53.128767  \n",
              "3                                2333    66.391781  \n",
              "4                                 532    89.457534  "
            ]
          },
          "execution_count": 245,
          "metadata": {},
          "output_type": "execute_result"
        }
      ],
      "source": [
        "df_filtered =  df.iloc[:, 41:52]\n",
        "df_filtered[\"DEATH [d from CT]\"] = df[\"DEATH [d from CT]\"]\n",
        "df_filtered[\"Age at CT\"] = df[\"Age at CT\"]\n",
        "df_filtered[\"DEATH [d from CT]\"] = df_filtered[\"DEATH [d from CT]\"].fillna(0)\n",
        "df_filtered[\"Clinical F/U interval  [d from CT]\"] = df[\"Clinical F/U interval  [d from CT]\"]\n",
        "df_filtered['Current Age'] = df_filtered[\"Age at CT\"] + df_filtered[\"Clinical F/U interval  [d from CT]\"]/365\n",
        "\n",
        "df_filtered.head()"
      ]
    },
    {
      "cell_type": "code",
      "execution_count": null,
      "id": "7e43d0dd",
      "metadata": {
        "id": "7e43d0dd"
      },
      "outputs": [],
      "source": [
        "alive_df = df_filtered[df_filtered['DEATH [d from CT]']==0]"
      ]
    },
    {
      "cell_type": "code",
      "execution_count": null,
      "id": "9a600b36",
      "metadata": {
        "id": "9a600b36",
        "outputId": "dbbe139d-74e9-46c2-d1b7-b3ec1ef449f6"
      },
      "outputs": [
        {
          "name": "stderr",
          "output_type": "stream",
          "text": [
            "/var/folders/f0/16ccpfvn15x4cfm0wxybq2mw0000gn/T/ipykernel_95046/407432531.py:2: SettingWithCopyWarning: \n",
            "A value is trying to be set on a copy of a slice from a DataFrame.\n",
            "Try using .loc[row_indexer,col_indexer] = value instead\n",
            "\n",
            "See the caveats in the documentation: https://pandas.pydata.org/pandas-docs/stable/user_guide/indexing.html#returning-a-view-versus-a-copy\n",
            "  alive_df.iloc[:,i] = pd.to_numeric(alive_df.iloc[:,i], errors='coerce')\n"
          ]
        }
      ],
      "source": [
        "for i in range(13):\n",
        "    alive_df.iloc[:,i] = pd.to_numeric(alive_df.iloc[:,i], errors='coerce')\n",
        "for i in range(11):\n",
        "    alive_df.iloc[:,i].fillna(value=alive_df.iloc[:,i].mean(),inplace = True)"
      ]
    },
    {
      "cell_type": "code",
      "execution_count": null,
      "id": "7ccc3395",
      "metadata": {
        "id": "7ccc3395"
      },
      "outputs": [],
      "source": [
        "Alive_X = np.array(alive_df.iloc[:,0:11])\n",
        "#Y = np.array(death_df.iloc[:,-1])\n"
      ]
    },
    {
      "cell_type": "code",
      "execution_count": null,
      "id": "eef3053a",
      "metadata": {
        "id": "eef3053a"
      },
      "outputs": [],
      "source": [
        "y_Alive = clf.predict(Alive_X)"
      ]
    },
    {
      "cell_type": "code",
      "execution_count": null,
      "id": "9cfdf90f",
      "metadata": {
        "id": "9cfdf90f",
        "outputId": "a6993650-8a52-4c4b-b603-ca82f0a2adf1"
      },
      "outputs": [
        {
          "data": {
            "text/plain": [
              "array([2, 2, 2, ..., 2, 2, 2])"
            ]
          },
          "execution_count": 250,
          "metadata": {},
          "output_type": "execute_result"
        }
      ],
      "source": [
        "y_Alive"
      ]
    },
    {
      "cell_type": "code",
      "execution_count": null,
      "id": "db2fb460",
      "metadata": {
        "id": "db2fb460"
      },
      "outputs": [],
      "source": [
        "final_predictions = []\n",
        "for i in range(len(y_Alive)):\n",
        "    if y_Alive[i] == 0:\n",
        "        final_predictions.append([24.684, 40.363])\n",
        "    elif y_Alive[i] == 1:\n",
        "        final_predictions.append([40.363, 55.965])\n",
        "    elif y_Alive[i] == 2:\n",
        "        final_predictions.append([55.965, 71.567])\n",
        "    elif y_Alive[i] == 3:\n",
        "        final_predictions.append([71.567, 87.168])\n",
        "    elif y_Alive[i] == 4:\n",
        "        final_predictions.append([87.168, 102.77])"
      ]
    },
    {
      "cell_type": "code",
      "execution_count": null,
      "id": "aaca47e2",
      "metadata": {
        "id": "aaca47e2"
      },
      "outputs": [],
      "source": [
        "final_predictions1 = []\n",
        "for i in range(len(y_Alive)):\n",
        "    if y_Alive[i] == 0:\n",
        "        final_predictions1.append(40.363)\n",
        "    elif y_Alive[i] == 1:\n",
        "        final_predictions1.append(55.965)\n",
        "    elif y_Alive[i] == 2:\n",
        "        final_predictions1.append(71.567)\n",
        "    elif y_Alive[i] == 3:\n",
        "        final_predictions1.append(87.168)\n",
        "    elif y_Alive[i] == 4:\n",
        "        final_predictions1.append(102.77)"
      ]
    },
    {
      "cell_type": "code",
      "execution_count": null,
      "id": "7d240092",
      "metadata": {
        "id": "7d240092",
        "outputId": "ee82aa4d-4e78-4c89-8133-7227bb2281aa"
      },
      "outputs": [
        {
          "name": "stderr",
          "output_type": "stream",
          "text": [
            "/var/folders/f0/16ccpfvn15x4cfm0wxybq2mw0000gn/T/ipykernel_95046/3831000055.py:1: SettingWithCopyWarning: \n",
            "A value is trying to be set on a copy of a slice from a DataFrame.\n",
            "Try using .loc[row_indexer,col_indexer] = value instead\n",
            "\n",
            "See the caveats in the documentation: https://pandas.pydata.org/pandas-docs/stable/user_guide/indexing.html#returning-a-view-versus-a-copy\n",
            "  alive_df[\"Predicted Age at Death Range\"] = final_predictions\n"
          ]
        }
      ],
      "source": [
        "alive_df[\"Predicted Age at Death Range\"] = final_predictions"
      ]
    },
    {
      "cell_type": "code",
      "execution_count": null,
      "id": "bc235ade",
      "metadata": {
        "id": "bc235ade",
        "outputId": "ebac1123-3893-489b-e3ab-e07979e0ca23"
      },
      "outputs": [
        {
          "name": "stderr",
          "output_type": "stream",
          "text": [
            "/var/folders/f0/16ccpfvn15x4cfm0wxybq2mw0000gn/T/ipykernel_95046/1450698696.py:1: SettingWithCopyWarning: \n",
            "A value is trying to be set on a copy of a slice from a DataFrame.\n",
            "Try using .loc[row_indexer,col_indexer] = value instead\n",
            "\n",
            "See the caveats in the documentation: https://pandas.pydata.org/pandas-docs/stable/user_guide/indexing.html#returning-a-view-versus-a-copy\n",
            "  alive_df[\"Predicted Maximum Age at Death\"] = final_predictions1\n"
          ]
        }
      ],
      "source": [
        "alive_df[\"Predicted Maximum Age at Death\"] = final_predictions1"
      ]
    },
    {
      "cell_type": "code",
      "execution_count": null,
      "id": "3da2fabf",
      "metadata": {
        "id": "3da2fabf",
        "outputId": "a0587b7a-5d66-4fe8-c80b-0ac61e727268"
      },
      "outputs": [
        {
          "data": {
            "text/plain": [
              "7052"
            ]
          },
          "execution_count": 264,
          "metadata": {},
          "output_type": "execute_result"
        }
      ],
      "source": [
        "alive_df[alive_df['Current Age'] < alive_df['Predicted Maximum Age at Death']].shape[0]"
      ]
    },
    {
      "cell_type": "code",
      "execution_count": null,
      "id": "56d0f05d",
      "metadata": {
        "id": "56d0f05d",
        "outputId": "4928936a-e313-4c6d-b00c-030603e0f374"
      },
      "outputs": [
        {
          "name": "stdout",
          "output_type": "stream",
          "text": [
            "0.813004380908462\n"
          ]
        }
      ],
      "source": [
        "\"Percentage of people who are still alive and haven't reached the maximum age at death limit\"\n",
        "print(alive_df[alive_df['Current Age'] < alive_df['Predicted Maximum Age at Death']].shape[0]/alive_df.shape[0])"
      ]
    },
    {
      "cell_type": "code",
      "execution_count": null,
      "id": "62c06cca",
      "metadata": {
        "id": "62c06cca"
      },
      "outputs": [],
      "source": [
        "alive_df[alive_df['Predicted Maximum Age at Death']==71.567].shape[0]\n",
        "x = list(range(0, alive_df[alive_df['Predicted Maximum Age at Death']==71.567].shape[0]))"
      ]
    },
    {
      "cell_type": "code",
      "execution_count": null,
      "id": "44cde17b",
      "metadata": {
        "id": "44cde17b",
        "outputId": "7bf612b1-1c20-4252-cf83-5c960ec39464"
      },
      "outputs": [
        {
          "data": {
            "text/plain": [
              "Text(0.5, 1.0, 'Patients assigned 55 to 71 Death Age Range')"
            ]
          },
          "execution_count": 268,
          "metadata": {},
          "output_type": "execute_result"
        },
        {
          "data": {
            "image/png": "[encoded data removed]",
            "text/plain": [
              "<Figure size 432x288 with 1 Axes>"
            ]
          },
          "metadata": {
            "needs_background": "light"
          },
          "output_type": "display_data"
        }
      ],
      "source": [
        "plt.scatter( x,alive_df[alive_df['Predicted Maximum Age at Death']==71.567]['Current Age'],label=\"Current Age\")\n",
        "plt.axhline(y=71.567, color='r', linestyle='-',label = \"Predicted Maximum Age at which a person dies\")\n",
        "plt.legend()\n",
        "plt.title(\"Patients assigned 55 to 71 Death Age Range\")"
      ]
    },
    {
      "cell_type": "code",
      "execution_count": null,
      "id": "dbf0c4b8",
      "metadata": {
        "id": "dbf0c4b8"
      },
      "outputs": [],
      "source": [
        ""
      ]
    }
  ],
  "metadata": {
    "kernelspec": {
      "display_name": "Python 3 (ipykernel)",
      "language": "python",
      "name": "python3"
    },
    "language_info": {
      "codemirror_mode": {
        "name": "ipython",
        "version": 3
      },
      "file_extension": ".py",
      "mimetype": "text/x-python",
      "name": "python",
      "nbconvert_exporter": "python",
      "pygments_lexer": "ipython3",
      "version": "3.9.7"
    },
    "colab": {
      "name": "Death Prediction Model using augmented data.ipynb",
      "provenance": [],
      "include_colab_link": true
    }
  },
  "nbformat": 4,
  "nbformat_minor": 5
}